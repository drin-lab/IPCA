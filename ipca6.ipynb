{
 "cells": [
  {
   "cell_type": "code",
   "execution_count": 1,
   "metadata": {},
   "outputs": [],
   "source": [
    "import pandas as pd"
   ]
  },
  {
   "cell_type": "code",
   "execution_count": 2,
   "metadata": {},
   "outputs": [],
   "source": [
    "df = pd.read_csv('20200325011131.csv')"
   ]
  },
  {
   "cell_type": "code",
   "execution_count": 3,
   "metadata": {},
   "outputs": [
    {
     "data": {
      "text/html": [
       "<div>\n",
       "<style scoped>\n",
       "    .dataframe tbody tr th:only-of-type {\n",
       "        vertical-align: middle;\n",
       "    }\n",
       "\n",
       "    .dataframe tbody tr th {\n",
       "        vertical-align: top;\n",
       "    }\n",
       "\n",
       "    .dataframe thead th {\n",
       "        text-align: right;\n",
       "    }\n",
       "</style>\n",
       "<table border=\"1\" class=\"dataframe\">\n",
       "  <thead>\n",
       "    <tr style=\"text-align: right;\">\n",
       "      <th></th>\n",
       "      <th>Variação mensal durante o Plano Real</th>\n",
       "    </tr>\n",
       "  </thead>\n",
       "  <tbody>\n",
       "    <tr>\n",
       "      <th>0</th>\n",
       "      <td>;julho 1994;agosto 1994;setembro 1994;outubro...</td>\n",
       "    </tr>\n",
       "    <tr>\n",
       "      <th>1</th>\n",
       "      <td>Brasil;6.84;1.86;1.53;2.62;2.81;1.71;1.7;1.02;...</td>\n",
       "    </tr>\n",
       "    <tr>\n",
       "      <th>2</th>\n",
       "      <td>Fonte: \"IBGE - Índice Nacional de Preços ao Co...</td>\n",
       "    </tr>\n",
       "  </tbody>\n",
       "</table>\n",
       "</div>"
      ],
      "text/plain": [
       "                Variação mensal durante o Plano Real\n",
       "0   ;julho 1994;agosto 1994;setembro 1994;outubro...\n",
       "1  Brasil;6.84;1.86;1.53;2.62;2.81;1.71;1.7;1.02;...\n",
       "2  Fonte: \"IBGE - Índice Nacional de Preços ao Co..."
      ]
     },
     "execution_count": 3,
     "metadata": {},
     "output_type": "execute_result"
    }
   ],
   "source": [
    "df.head()"
   ]
  },
  {
   "cell_type": "code",
   "execution_count": 4,
   "metadata": {},
   "outputs": [],
   "source": [
    "df.drop([2], axis=0, inplace=True)"
   ]
  },
  {
   "cell_type": "code",
   "execution_count": 5,
   "metadata": {},
   "outputs": [
    {
     "data": {
      "text/html": [
       "<div>\n",
       "<style scoped>\n",
       "    .dataframe tbody tr th:only-of-type {\n",
       "        vertical-align: middle;\n",
       "    }\n",
       "\n",
       "    .dataframe tbody tr th {\n",
       "        vertical-align: top;\n",
       "    }\n",
       "\n",
       "    .dataframe thead th {\n",
       "        text-align: right;\n",
       "    }\n",
       "</style>\n",
       "<table border=\"1\" class=\"dataframe\">\n",
       "  <thead>\n",
       "    <tr style=\"text-align: right;\">\n",
       "      <th></th>\n",
       "      <th>Variação mensal durante o Plano Real</th>\n",
       "    </tr>\n",
       "  </thead>\n",
       "  <tbody>\n",
       "    <tr>\n",
       "      <th>0</th>\n",
       "      <td>;julho 1994;agosto 1994;setembro 1994;outubro...</td>\n",
       "    </tr>\n",
       "    <tr>\n",
       "      <th>1</th>\n",
       "      <td>Brasil;6.84;1.86;1.53;2.62;2.81;1.71;1.7;1.02;...</td>\n",
       "    </tr>\n",
       "  </tbody>\n",
       "</table>\n",
       "</div>"
      ],
      "text/plain": [
       "                Variação mensal durante o Plano Real\n",
       "0   ;julho 1994;agosto 1994;setembro 1994;outubro...\n",
       "1  Brasil;6.84;1.86;1.53;2.62;2.81;1.71;1.7;1.02;..."
      ]
     },
     "execution_count": 5,
     "metadata": {},
     "output_type": "execute_result"
    }
   ],
   "source": [
    "df"
   ]
  },
  {
   "cell_type": "code",
   "execution_count": 6,
   "metadata": {},
   "outputs": [
    {
     "name": "stdout",
     "output_type": "stream",
     "text": [
      "<class 'pandas.core.frame.DataFrame'>\n",
      "Int64Index: 2 entries, 0 to 1\n",
      "Data columns (total 1 columns):\n",
      " #   Column                                Non-Null Count  Dtype \n",
      "---  ------                                --------------  ----- \n",
      " 0   Variação mensal durante o Plano Real  2 non-null      object\n",
      "dtypes: object(1)\n",
      "memory usage: 32.0+ bytes\n"
     ]
    }
   ],
   "source": [
    "df.info()"
   ]
  },
  {
   "cell_type": "code",
   "execution_count": 7,
   "metadata": {},
   "outputs": [
    {
     "data": {
      "text/plain": [
       "Variação mensal durante o Plano Real    object\n",
       "dtype: object"
      ]
     },
     "execution_count": 7,
     "metadata": {},
     "output_type": "execute_result"
    }
   ],
   "source": [
    "df.dtypes"
   ]
  },
  {
   "cell_type": "code",
   "execution_count": 8,
   "metadata": {},
   "outputs": [
    {
     "data": {
      "text/html": [
       "<div>\n",
       "<style scoped>\n",
       "    .dataframe tbody tr th:only-of-type {\n",
       "        vertical-align: middle;\n",
       "    }\n",
       "\n",
       "    .dataframe tbody tr th {\n",
       "        vertical-align: top;\n",
       "    }\n",
       "\n",
       "    .dataframe thead th {\n",
       "        text-align: right;\n",
       "    }\n",
       "</style>\n",
       "<table border=\"1\" class=\"dataframe\">\n",
       "  <thead>\n",
       "    <tr style=\"text-align: right;\">\n",
       "      <th></th>\n",
       "      <th>Variação mensal durante o Plano Real</th>\n",
       "    </tr>\n",
       "  </thead>\n",
       "  <tbody>\n",
       "    <tr>\n",
       "      <th>0</th>\n",
       "      <td>;julho 1994;agosto 1994;setembro 1994;outubro...</td>\n",
       "    </tr>\n",
       "    <tr>\n",
       "      <th>1</th>\n",
       "      <td>Brasil;6.84;1.86;1.53;2.62;2.81;1.71;1.7;1.02;...</td>\n",
       "    </tr>\n",
       "  </tbody>\n",
       "</table>\n",
       "</div>"
      ],
      "text/plain": [
       "                Variação mensal durante o Plano Real\n",
       "0   ;julho 1994;agosto 1994;setembro 1994;outubro...\n",
       "1  Brasil;6.84;1.86;1.53;2.62;2.81;1.71;1.7;1.02;..."
      ]
     },
     "execution_count": 8,
     "metadata": {},
     "output_type": "execute_result"
    }
   ],
   "source": [
    "df"
   ]
  },
  {
   "cell_type": "code",
   "execution_count": 9,
   "metadata": {},
   "outputs": [],
   "source": [
    "df.loc[0] = df.loc[0].str.replace(\";\",\",\")"
   ]
  },
  {
   "cell_type": "code",
   "execution_count": 10,
   "metadata": {},
   "outputs": [
    {
     "data": {
      "text/html": [
       "<div>\n",
       "<style scoped>\n",
       "    .dataframe tbody tr th:only-of-type {\n",
       "        vertical-align: middle;\n",
       "    }\n",
       "\n",
       "    .dataframe tbody tr th {\n",
       "        vertical-align: top;\n",
       "    }\n",
       "\n",
       "    .dataframe thead th {\n",
       "        text-align: right;\n",
       "    }\n",
       "</style>\n",
       "<table border=\"1\" class=\"dataframe\">\n",
       "  <thead>\n",
       "    <tr style=\"text-align: right;\">\n",
       "      <th></th>\n",
       "      <th>Variação mensal durante o Plano Real</th>\n",
       "    </tr>\n",
       "  </thead>\n",
       "  <tbody>\n",
       "    <tr>\n",
       "      <th>0</th>\n",
       "      <td>,julho 1994,agosto 1994,setembro 1994,outubro...</td>\n",
       "    </tr>\n",
       "    <tr>\n",
       "      <th>1</th>\n",
       "      <td>Brasil;6.84;1.86;1.53;2.62;2.81;1.71;1.7;1.02;...</td>\n",
       "    </tr>\n",
       "  </tbody>\n",
       "</table>\n",
       "</div>"
      ],
      "text/plain": [
       "                Variação mensal durante o Plano Real\n",
       "0   ,julho 1994,agosto 1994,setembro 1994,outubro...\n",
       "1  Brasil;6.84;1.86;1.53;2.62;2.81;1.71;1.7;1.02;..."
      ]
     },
     "execution_count": 10,
     "metadata": {},
     "output_type": "execute_result"
    }
   ],
   "source": [
    "df"
   ]
  },
  {
   "cell_type": "code",
   "execution_count": 11,
   "metadata": {},
   "outputs": [
    {
     "data": {
      "text/plain": [
       "Variação mensal durante o Plano Real     ,julho 1994,agosto 1994,setembro 1994,outubro...\n",
       "Name: 0, dtype: object"
      ]
     },
     "execution_count": 11,
     "metadata": {},
     "output_type": "execute_result"
    }
   ],
   "source": [
    "df.loc[0]"
   ]
  },
  {
   "cell_type": "code",
   "execution_count": 12,
   "metadata": {},
   "outputs": [],
   "source": [
    "df.loc[1] = df.loc[1].str.replace(\";\",\",\")"
   ]
  },
  {
   "cell_type": "code",
   "execution_count": 13,
   "metadata": {},
   "outputs": [
    {
     "data": {
      "text/plain": [
       "Variação mensal durante o Plano Real    Brasil,6.84,1.86,1.53,2.62,2.81,1.71,1.7,1.02,...\n",
       "Name: 1, dtype: object"
      ]
     },
     "execution_count": 13,
     "metadata": {},
     "output_type": "execute_result"
    }
   ],
   "source": [
    "df.loc[1]"
   ]
  },
  {
   "cell_type": "code",
   "execution_count": 14,
   "metadata": {},
   "outputs": [],
   "source": [
    "df = df.transpose()"
   ]
  },
  {
   "cell_type": "code",
   "execution_count": 15,
   "metadata": {},
   "outputs": [
    {
     "data": {
      "text/html": [
       "<div>\n",
       "<style scoped>\n",
       "    .dataframe tbody tr th:only-of-type {\n",
       "        vertical-align: middle;\n",
       "    }\n",
       "\n",
       "    .dataframe tbody tr th {\n",
       "        vertical-align: top;\n",
       "    }\n",
       "\n",
       "    .dataframe thead th {\n",
       "        text-align: right;\n",
       "    }\n",
       "</style>\n",
       "<table border=\"1\" class=\"dataframe\">\n",
       "  <thead>\n",
       "    <tr style=\"text-align: right;\">\n",
       "      <th></th>\n",
       "      <th>0</th>\n",
       "      <th>1</th>\n",
       "    </tr>\n",
       "  </thead>\n",
       "  <tbody>\n",
       "    <tr>\n",
       "      <th>Variação mensal durante o Plano Real</th>\n",
       "      <td>,julho 1994,agosto 1994,setembro 1994,outubro...</td>\n",
       "      <td>Brasil,6.84,1.86,1.53,2.62,2.81,1.71,1.7,1.02,...</td>\n",
       "    </tr>\n",
       "  </tbody>\n",
       "</table>\n",
       "</div>"
      ],
      "text/plain": [
       "                                                                                      0  \\\n",
       "Variação mensal durante o Plano Real   ,julho 1994,agosto 1994,setembro 1994,outubro...   \n",
       "\n",
       "                                                                                      1  \n",
       "Variação mensal durante o Plano Real  Brasil,6.84,1.86,1.53,2.62,2.81,1.71,1.7,1.02,...  "
      ]
     },
     "execution_count": 15,
     "metadata": {},
     "output_type": "execute_result"
    }
   ],
   "source": [
    "df"
   ]
  },
  {
   "cell_type": "code",
   "execution_count": 16,
   "metadata": {},
   "outputs": [
    {
     "data": {
      "text/html": [
       "<div>\n",
       "<style scoped>\n",
       "    .dataframe tbody tr th:only-of-type {\n",
       "        vertical-align: middle;\n",
       "    }\n",
       "\n",
       "    .dataframe tbody tr th {\n",
       "        vertical-align: top;\n",
       "    }\n",
       "\n",
       "    .dataframe thead th {\n",
       "        text-align: right;\n",
       "    }\n",
       "</style>\n",
       "<table border=\"1\" class=\"dataframe\">\n",
       "  <thead>\n",
       "    <tr style=\"text-align: right;\">\n",
       "      <th></th>\n",
       "      <th>0</th>\n",
       "      <th>1</th>\n",
       "    </tr>\n",
       "  </thead>\n",
       "  <tbody>\n",
       "    <tr>\n",
       "      <th>Variação mensal durante o Plano Real</th>\n",
       "      <td>,julho 1994,agosto 1994,setembro 1994,outubro...</td>\n",
       "      <td>Brasil,6.84,1.86,1.53,2.62,2.81,1.71,1.7,1.02,...</td>\n",
       "    </tr>\n",
       "  </tbody>\n",
       "</table>\n",
       "</div>"
      ],
      "text/plain": [
       "                                                                                      0  \\\n",
       "Variação mensal durante o Plano Real   ,julho 1994,agosto 1994,setembro 1994,outubro...   \n",
       "\n",
       "                                                                                      1  \n",
       "Variação mensal durante o Plano Real  Brasil,6.84,1.86,1.53,2.62,2.81,1.71,1.7,1.02,...  "
      ]
     },
     "execution_count": 16,
     "metadata": {},
     "output_type": "execute_result"
    }
   ],
   "source": [
    "df"
   ]
  },
  {
   "cell_type": "code",
   "execution_count": 17,
   "metadata": {},
   "outputs": [],
   "source": [
    "df = df.set_index(1)"
   ]
  },
  {
   "cell_type": "code",
   "execution_count": 18,
   "metadata": {},
   "outputs": [
    {
     "data": {
      "text/html": [
       "<div>\n",
       "<style scoped>\n",
       "    .dataframe tbody tr th:only-of-type {\n",
       "        vertical-align: middle;\n",
       "    }\n",
       "\n",
       "    .dataframe tbody tr th {\n",
       "        vertical-align: top;\n",
       "    }\n",
       "\n",
       "    .dataframe thead th {\n",
       "        text-align: right;\n",
       "    }\n",
       "</style>\n",
       "<table border=\"1\" class=\"dataframe\">\n",
       "  <thead>\n",
       "    <tr style=\"text-align: right;\">\n",
       "      <th></th>\n",
       "      <th>0</th>\n",
       "    </tr>\n",
       "    <tr>\n",
       "      <th>1</th>\n",
       "      <th></th>\n",
       "    </tr>\n",
       "  </thead>\n",
       "  <tbody>\n",
       "    <tr>\n",
       "      <th>Brasil,6.84,1.86,1.53,2.62,2.81,1.71,1.7,1.02,1.55,2.43,2.67,2.26,2.36,0.99,0.99,1.41,1.47,1.56,1.34,1.03,0.35,1.26,1.22,1.19,1.11,0.44,0.15,0.3,0.32,0.47,1.18,0.5,0.51,0.88,0.41,0.54,0.22,-0.02,0.06,0.23,0.17,0.43,0.71,0.46,0.34,0.24,0.5,0.02,-0.12,-0.51,-0.22,0.02,-0.12,0.33,0.7,1.05,1.1,0.56,0.3,0.19,1.09,0.56,0.31,1.19,0.95,0.6,0.62,0.13,0.22,0.42,0.01,0.23,1.61,1.31,0.23,0.14,0.32,0.59,0.57,0.46,0.38,0.58,0.41,0.52,1.33,0.7,0.28,0.83,0.71,0.65,0.52,0.36,0.6,0.8,0.21,0.42,1.19,0.65,0.72,1.31,3.02,2.1,2.25,1.57,1.23,0.97,0.61,-0.15,0.2,0.34,0.78,0.29,0.34,0.52,0.76,0.61,0.47,0.37,0.51,0.71,0.91,0.69,0.33,0.44,0.69,0.86,0.58,0.59,0.61,0.87,0.49,-0.02,0.25,0.17,0.35,0.75,0.55,0.36,0.59,0.41,0.43,0.21,0.1,-0.21,0.19,0.05,0.21,0.33,0.31,0.48,0.44,0.44,0.37,0.25,0.28,0.28,0.24,0.47,0.18,0.3,0.38,0.74,0.54,0.49,0.48,0.55,0.79,0.74,0.53,0.28,0.26,0.45,0.36,0.28,0.48,0.55,0.2,0.48,0.47,0.36,0.24,0.15,0.24,0.28,0.41,0.37,0.75,0.78,0.52,0.57,0.43,0,0.01,0.04,0.45,0.75,0.83,0.63,0.83,0.8,0.79,0.77,0.47,0.15,0.16,0.37,0.53,0.43,0.52,0.5,0.56,0.45,0.21,0.64,0.36,0.08,0.43,0.41,0.57,0.59,0.6,0.79,0.86,0.6,0.47,0.55,0.37,0.26,0.03,0.24,0.35,0.57,0.54,0.92,0.55,0.69,0.92,0.67,0.46,0.4,0.01,0.25,0.57,0.42,0.51,0.78,1.24,1.22,1.32,0.71,0.74,0.79,0.62,0.22,0.54,0.82,1.01,0.96,1.27,0.9,0.43,0.61,0.78,0.35,0.52,0.44,0.08,0.26,0.18,0.3,0.38,0.33,0.25,0.14,0.31,-0.23,0.24,0.19,0.16,0.42,0.28,0.44,0.29,0.32,0.09,0.22,0.4,1.26,0.33,-0.09,0.48,0.45,-0.21,0.15,0.32,0.43,0.75,0.57,0.13,0.01,0.19,0.11,-0.04,0.1,0.51,1.15,0.21,0.25</th>\n",
       "      <td>,julho 1994,agosto 1994,setembro 1994,outubro...</td>\n",
       "    </tr>\n",
       "  </tbody>\n",
       "</table>\n",
       "</div>"
      ],
      "text/plain": [
       "                                                                                                    0\n",
       "1                                                                                                    \n",
       "Brasil,6.84,1.86,1.53,2.62,2.81,1.71,1.7,1.02,1...   ,julho 1994,agosto 1994,setembro 1994,outubro..."
      ]
     },
     "execution_count": 18,
     "metadata": {},
     "output_type": "execute_result"
    }
   ],
   "source": [
    "df"
   ]
  },
  {
   "cell_type": "code",
   "execution_count": 19,
   "metadata": {},
   "outputs": [],
   "source": [
    "df = df.index.str.replace(\",\",\" ',' \")"
   ]
  },
  {
   "cell_type": "code",
   "execution_count": 20,
   "metadata": {},
   "outputs": [
    {
     "data": {
      "text/plain": [
       "Index(['Brasil ',' 6.84 ',' 1.86 ',' 1.53 ',' 2.62 ',' 2.81 ',' 1.71 ',' 1.7 ',' 1.02 ',' 1.55 ',' 2.43 ',' 2.67 ',' 2.26 ',' 2.36 ',' 0.99 ',' 0.99 ',' 1.41 ',' 1.47 ',' 1.56 ',' 1.34 ',' 1.03 ',' 0.35 ',' 1.26 ',' 1.22 ',' 1.19 ',' 1.11 ',' 0.44 ',' 0.15 ',' 0.3 ',' 0.32 ',' 0.47 ',' 1.18 ',' 0.5 ',' 0.51 ',' 0.88 ',' 0.41 ',' 0.54 ',' 0.22 ',' -0.02 ',' 0.06 ',' 0.23 ',' 0.17 ',' 0.43 ',' 0.71 ',' 0.46 ',' 0.34 ',' 0.24 ',' 0.5 ',' 0.02 ',' -0.12 ',' -0.51 ',' -0.22 ',' 0.02 ',' -0.12 ',' 0.33 ',' 0.7 ',' 1.05 ',' 1.1 ',' 0.56 ',' 0.3 ',' 0.19 ',' 1.09 ',' 0.56 ',' 0.31 ',' 1.19 ',' 0.95 ',' 0.6 ',' 0.62 ',' 0.13 ',' 0.22 ',' 0.42 ',' 0.01 ',' 0.23 ',' 1.61 ',' 1.31 ',' 0.23 ',' 0.14 ',' 0.32 ',' 0.59 ',' 0.57 ',' 0.46 ',' 0.38 ',' 0.58 ',' 0.41 ',' 0.52 ',' 1.33 ',' 0.7 ',' 0.28 ',' 0.83 ',' 0.71 ',' 0.65 ',' 0.52 ',' 0.36 ',' 0.6 ',' 0.8 ',' 0.21 ',' 0.42 ',' 1.19 ',' 0.65 ',' 0.72 ',' 1.31 ',' 3.02 ',' 2.1 ',' 2.25 ',' 1.57 ',' 1.23 ',' 0.97 ',' 0.61 ',' -0.15 ',' 0.2 ',' 0.34 ',' 0.78 ',' 0.29 ',' 0.34 ',' 0.52 ',' 0.76 ',' 0.61 ',' 0.47 ',' 0.37 ',' 0.51 ',' 0.71 ',' 0.91 ',' 0.69 ',' 0.33 ',' 0.44 ',' 0.69 ',' 0.86 ',' 0.58 ',' 0.59 ',' 0.61 ',' 0.87 ',' 0.49 ',' -0.02 ',' 0.25 ',' 0.17 ',' 0.35 ',' 0.75 ',' 0.55 ',' 0.36 ',' 0.59 ',' 0.41 ',' 0.43 ',' 0.21 ',' 0.1 ',' -0.21 ',' 0.19 ',' 0.05 ',' 0.21 ',' 0.33 ',' 0.31 ',' 0.48 ',' 0.44 ',' 0.44 ',' 0.37 ',' 0.25 ',' 0.28 ',' 0.28 ',' 0.24 ',' 0.47 ',' 0.18 ',' 0.3 ',' 0.38 ',' 0.74 ',' 0.54 ',' 0.49 ',' 0.48 ',' 0.55 ',' 0.79 ',' 0.74 ',' 0.53 ',' 0.28 ',' 0.26 ',' 0.45 ',' 0.36 ',' 0.28 ',' 0.48 ',' 0.55 ',' 0.2 ',' 0.48 ',' 0.47 ',' 0.36 ',' 0.24 ',' 0.15 ',' 0.24 ',' 0.28 ',' 0.41 ',' 0.37 ',' 0.75 ',' 0.78 ',' 0.52 ',' 0.57 ',' 0.43 ',' 0 ',' 0.01 ',' 0.04 ',' 0.45 ',' 0.75 ',' 0.83 ',' 0.63 ',' 0.83 ',' 0.8 ',' 0.79 ',' 0.77 ',' 0.47 ',' 0.15 ',' 0.16 ',' 0.37 ',' 0.53 ',' 0.43 ',' 0.52 ',' 0.5 ',' 0.56 ',' 0.45 ',' 0.21 ',' 0.64 ',' 0.36 ',' 0.08 ',' 0.43 ',' 0.41 ',' 0.57 ',' 0.59 ',' 0.6 ',' 0.79 ',' 0.86 ',' 0.6 ',' 0.47 ',' 0.55 ',' 0.37 ',' 0.26 ',' 0.03 ',' 0.24 ',' 0.35 ',' 0.57 ',' 0.54 ',' 0.92 ',' 0.55 ',' 0.69 ',' 0.92 ',' 0.67 ',' 0.46 ',' 0.4 ',' 0.01 ',' 0.25 ',' 0.57 ',' 0.42 ',' 0.51 ',' 0.78 ',' 1.24 ',' 1.22 ',' 1.32 ',' 0.71 ',' 0.74 ',' 0.79 ',' 0.62 ',' 0.22 ',' 0.54 ',' 0.82 ',' 1.01 ',' 0.96 ',' 1.27 ',' 0.9 ',' 0.43 ',' 0.61 ',' 0.78 ',' 0.35 ',' 0.52 ',' 0.44 ',' 0.08 ',' 0.26 ',' 0.18 ',' 0.3 ',' 0.38 ',' 0.33 ',' 0.25 ',' 0.14 ',' 0.31 ',' -0.23 ',' 0.24 ',' 0.19 ',' 0.16 ',' 0.42 ',' 0.28 ',' 0.44 ',' 0.29 ',' 0.32 ',' 0.09 ',' 0.22 ',' 0.4 ',' 1.26 ',' 0.33 ',' -0.09 ',' 0.48 ',' 0.45 ',' -0.21 ',' 0.15 ',' 0.32 ',' 0.43 ',' 0.75 ',' 0.57 ',' 0.13 ',' 0.01 ',' 0.19 ',' 0.11 ',' -0.04 ',' 0.1 ',' 0.51 ',' 1.15 ',' 0.21 ',' 0.25'], dtype='object', name=1)"
      ]
     },
     "execution_count": 20,
     "metadata": {},
     "output_type": "execute_result"
    }
   ],
   "source": [
    "df"
   ]
  },
  {
   "cell_type": "code",
   "execution_count": 21,
   "metadata": {},
   "outputs": [],
   "source": [
    "ipca = {'periodo': [' julho 1994 ',' agosto 1994 ',' setembro 1994 ',' outubro 1994 ',' novembro 1994 ',' dezembro 1994 ',' janeiro 1995 ',' fevereiro 1995 ',' março 1995 ',' abril 1995 ',' maio 1995 ',' junho 1995 ',' julho 1995 ',' agosto 1995 ',' setembro 1995 ',' outubro 1995 ',' novembro 1995 ',' dezembro 1995 ',' janeiro 1996 ',' fevereiro 1996 ',' março 1996 ',' abril 1996 ',' maio 1996 ',' junho 1996 ',' julho 1996 ',' agosto 1996 ',' setembro 1996 ',' outubro 1996 ',' novembro 1996 ',' dezembro 1996 ',' janeiro 1997 ',' fevereiro 1997 ',' março 1997 ',' abril 1997 ',' maio 1997 ',' junho 1997 ',' julho 1997 ',' agosto 1997 ',' setembro 1997 ',' outubro 1997 ',' novembro 1997 ',' dezembro 1997 ',' janeiro 1998 ',' fevereiro 1998 ',' março 1998 ',' abril 1998 ',' maio 1998 ',' junho 1998 ',' julho 1998 ',' agosto 1998 ',' setembro 1998 ',' outubro 1998 ',' novembro 1998 ',' dezembro 1998 ',' janeiro 1999 ',' fevereiro 1999 ',' março 1999 ',' abril 1999 ',' maio 1999 ',' junho 1999 ',' julho 1999 ',' agosto 1999 ',' setembro 1999 ',' outubro 1999 ',' novembro 1999 ',' dezembro 1999 ',' janeiro 2000 ',' fevereiro 2000 ',' março 2000 ',' abril 2000 ',' maio 2000 ',' junho 2000 ',' julho 2000 ',' agosto 2000 ',' setembro 2000 ',' outubro 2000 ',' novembro 2000 ',' dezembro 2000 ',' janeiro 2001 ',' fevereiro 2001 ',' março 2001 ',' abril 2001 ',' maio 2001 ',' junho 2001 ',' julho 2001 ',' agosto 2001 ',' setembro 2001 ',' outubro 2001 ',' novembro 2001 ',' dezembro 2001 ',' janeiro 2002 ',' fevereiro 2002 ',' março 2002 ',' abril 2002 ',' maio 2002 ',' junho 2002 ',' julho 2002 ',' agosto 2002 ',' setembro 2002 ',' outubro 2002 ',' novembro 2002 ',' dezembro 2002 ',' janeiro 2003 ',' fevereiro 2003 ',' março 2003 ',' abril 2003 ',' maio 2003 ',' junho 2003 ',' julho 2003 ',' agosto 2003 ',' setembro 2003 ',' outubro 2003 ',' novembro 2003 ',' dezembro 2003 ',' janeiro 2004 ',' fevereiro 2004 ',' março 2004 ',' abril 2004 ',' maio 2004 ',' junho 2004 ',' julho 2004 ',' agosto 2004 ',' setembro 2004 ',' outubro 2004 ',' novembro 2004 ',' dezembro 2004 ',' janeiro 2005 ',' fevereiro 2005 ',' março 2005 ',' abril 2005 ',' maio 2005 ',' junho 2005 ',' julho 2005 ',' agosto 2005 ',' setembro 2005 ',' outubro 2005 ',' novembro 2005 ',' dezembro 2005 ',' janeiro 2006 ',' fevereiro 2006 ',' março 2006 ',' abril 2006 ',' maio 2006 ',' junho 2006 ',' julho 2006 ',' agosto 2006 ',' setembro 2006 ',' outubro 2006 ',' novembro 2006 ',' dezembro 2006 ',' janeiro 2007 ',' fevereiro 2007 ',' março 2007 ',' abril 2007 ',' maio 2007 ',' junho 2007 ',' julho 2007 ',' agosto 2007 ',' setembro 2007 ',' outubro 2007 ',' novembro 2007 ',' dezembro 2007 ',' janeiro 2008 ',' fevereiro 2008 ',' março 2008 ',' abril 2008 ',' maio 2008 ',' junho 2008 ',' julho 2008 ',' agosto 2008 ',' setembro 2008 ',' outubro 2008 ',' novembro 2008 ',' dezembro 2008 ',' janeiro 2009 ',' fevereiro 2009 ',' março 2009 ',' abril 2009 ',' maio 2009 ',' junho 2009 ',' julho 2009 ',' agosto 2009 ',' setembro 2009 ',' outubro 2009 ',' novembro 2009 ',' dezembro 2009 ',' janeiro 2010 ',' fevereiro 2010 ',' março 2010 ',' abril 2010 ',' maio 2010 ',' junho 2010 ',' julho 2010 ',' agosto 2010 ',' setembro 2010 ',' outubro 2010 ',' novembro 2010 ',' dezembro 2010 ',' janeiro 2011 ',' fevereiro 2011 ',' março 2011 ',' abril 2011 ',' maio 2011 ',' junho 2011 ',' julho 2011 ',' agosto 2011 ',' setembro 2011 ',' outubro 2011 ',' novembro 2011 ',' dezembro 2011 ',' janeiro 2012 ',' fevereiro 2012 ',' março 2012 ',' abril 2012 ',' maio 2012 ',' junho 2012 ',' julho 2012 ',' agosto 2012 ',' setembro 2012 ',' outubro 2012 ',' novembro 2012 ',' dezembro 2012 ',' janeiro 2013 ',' fevereiro 2013 ',' março 2013 ',' abril 2013 ',' maio 2013 ',' junho 2013 ',' julho 2013 ',' agosto 2013 ',' setembro 2013 ',' outubro 2013 ',' novembro 2013 ',' dezembro 2013 ',' janeiro 2014 ',' fevereiro 2014 ',' março 2014 ',' abril 2014 ',' maio 2014 ',' junho 2014 ',' julho 2014 ',' agosto 2014 ',' setembro 2014 ',' outubro 2014 ',' novembro 2014 ',' dezembro 2014 ',' janeiro 2015 ',' fevereiro 2015 ',' março 2015 ',' abril 2015 ',' maio 2015 ',' junho 2015 ',' julho 2015 ',' agosto 2015 ',' setembro 2015 ',' outubro 2015 ',' novembro 2015 ',' dezembro 2015 ',' janeiro 2016 ',' fevereiro 2016 ',' março 2016 ',' abril 2016 ',' maio 2016 ',' junho 2016 ',' julho 2016 ',' agosto 2016 ',' setembro 2016 ',' outubro 2016 ',' novembro 2016 ',' dezembro 2016 ',' janeiro 2017 ',' fevereiro 2017 ',' março 2017 ',' abril 2017 ',' maio 2017 ',' junho 2017 ',' julho 2017 ',' agosto 2017 ',' setembro 2017 ',' outubro 2017 ',' novembro 2017 ',' dezembro 2017 ',' janeiro 2018 ',' fevereiro 2018 ',' março 2018 ',' abril 2018 ',' maio 2018 ',' junho 2018 ',' julho 2018 ',' agosto 2018 ',' setembro 2018 ',' outubro 2018 ',' novembro 2018 ',' dezembro 2018 ',' janeiro 2019 ',' fevereiro 2019 ',' março 2019 ',' abril 2019 ',' maio 2019 ',' junho 2019 ',' julho 2019 ',' agosto 2019 ',' setembro 2019 ',' outubro 2019 ',' novembro 2019 ',' dezembro 2019 ',' janeiro 2020 ',' fevereiro 2020'],'inflacao': [6.84,1.86,1.53,2.62,2.81,1.71,1.7,1.02,1.55,2.43,2.67,2.26,2.36,0.99,0.99,1.41,1.47,1.56,1.34,1.03,0.35,1.26,1.22,1.19,1.11,0.44,0.15,0.3,0.32,0.47,1.18,0.5,0.51,0.88,0.41,0.54,0.22,-0.02,0.06,0.23,0.17,0.43,0.71,0.46,0.34,0.24,0.5,0.02,-0.12,-0.51,-0.22,0.02,-0.12,0.33,0.7,1.05,1.1,0.56,0.3,0.19,1.09,0.56,0.31,1.19,0.95,0.6,0.62,0.13,0.22,0.42,0.01,0.23,1.61,1.31,0.23,0.14,0.32,0.59,0.57,0.46,0.38,0.58,0.41,0.52,1.33,0.7,0.28,0.83,0.71,0.65,0.52,0.36,0.6,0.8,0.21,0.42,1.19,0.65,0.72,1.31,3.02,2.1,2.25,1.57,1.23,0.97,0.61,-0.15,0.2,0.34,0.78,0.29,0.34,0.52,0.76,0.61,0.47,0.37,0.51,0.71,0.91,0.69,0.33,0.44,0.69,0.86,0.58,0.59,0.61,0.87,0.49,-0.02,0.25,0.17,0.35,0.75,0.55,0.36,0.59,0.41,0.43,0.21,0.1,-0.21,0.19,0.05,0.21,0.33,0.31,0.48,0.44,0.44,0.37,0.25,0.28,0.28,0.24,0.47,0.18,0.3,0.38,0.74,0.54,0.49,0.48,0.55,0.79,0.74,0.53,0.28,0.26,0.45,0.36,0.28,0.48,0.55,0.2,0.48,0.47,0.36,0.24,0.15,0.24,0.28,0.41,0.37,0.75,0.78,0.52,0.57,0.43,0,0.01,0.04,0.45,0.75,0.83,0.63,0.83,0.8,0.79,0.77,0.47,0.15,0.16,0.37,0.53,0.43,0.52,0.5,0.56,0.45,0.21,0.64,0.36,0.08,0.43,0.41,0.57,0.59,0.6,0.79,0.86,0.6,0.47,0.55,0.37,0.26,0.03,0.24,0.35,0.57,0.54,0.92,0.55,0.69,0.92,0.67,0.46,0.4,0.01,0.25,0.57,0.42,0.51,0.78,1.24,1.22,1.32,0.71,0.74,0.79,0.62,0.22,0.54,0.82,1.01,0.96,1.27,0.9,0.43,0.61,0.78,0.35,0.52,0.44,0.08,0.26,0.18,0.3,0.38,0.33,0.25,0.14,0.31,-0.23,0.24,0.19,0.16,0.42,0.28,0.44,0.29,0.32,0.09,0.22,0.4,1.26,0.33,-0.09,0.48,0.45,-0.21,0.15,0.32,0.43,0.75,0.57,0.13,0.01,0.19,0.11,-0.04,0.1,0.51,1.15,0.21,0.25]}"
   ]
  },
  {
   "cell_type": "code",
   "execution_count": 22,
   "metadata": {},
   "outputs": [],
   "source": [
    "df2 = pd.DataFrame(ipca)"
   ]
  },
  {
   "cell_type": "code",
   "execution_count": 23,
   "metadata": {},
   "outputs": [
    {
     "data": {
      "text/html": [
       "<div>\n",
       "<style scoped>\n",
       "    .dataframe tbody tr th:only-of-type {\n",
       "        vertical-align: middle;\n",
       "    }\n",
       "\n",
       "    .dataframe tbody tr th {\n",
       "        vertical-align: top;\n",
       "    }\n",
       "\n",
       "    .dataframe thead th {\n",
       "        text-align: right;\n",
       "    }\n",
       "</style>\n",
       "<table border=\"1\" class=\"dataframe\">\n",
       "  <thead>\n",
       "    <tr style=\"text-align: right;\">\n",
       "      <th></th>\n",
       "      <th>periodo</th>\n",
       "      <th>inflacao</th>\n",
       "    </tr>\n",
       "  </thead>\n",
       "  <tbody>\n",
       "    <tr>\n",
       "      <th>0</th>\n",
       "      <td>julho 1994</td>\n",
       "      <td>6.84</td>\n",
       "    </tr>\n",
       "    <tr>\n",
       "      <th>1</th>\n",
       "      <td>agosto 1994</td>\n",
       "      <td>1.86</td>\n",
       "    </tr>\n",
       "    <tr>\n",
       "      <th>2</th>\n",
       "      <td>setembro 1994</td>\n",
       "      <td>1.53</td>\n",
       "    </tr>\n",
       "    <tr>\n",
       "      <th>3</th>\n",
       "      <td>outubro 1994</td>\n",
       "      <td>2.62</td>\n",
       "    </tr>\n",
       "    <tr>\n",
       "      <th>4</th>\n",
       "      <td>novembro 1994</td>\n",
       "      <td>2.81</td>\n",
       "    </tr>\n",
       "    <tr>\n",
       "      <th>...</th>\n",
       "      <td>...</td>\n",
       "      <td>...</td>\n",
       "    </tr>\n",
       "    <tr>\n",
       "      <th>303</th>\n",
       "      <td>outubro 2019</td>\n",
       "      <td>0.10</td>\n",
       "    </tr>\n",
       "    <tr>\n",
       "      <th>304</th>\n",
       "      <td>novembro 2019</td>\n",
       "      <td>0.51</td>\n",
       "    </tr>\n",
       "    <tr>\n",
       "      <th>305</th>\n",
       "      <td>dezembro 2019</td>\n",
       "      <td>1.15</td>\n",
       "    </tr>\n",
       "    <tr>\n",
       "      <th>306</th>\n",
       "      <td>janeiro 2020</td>\n",
       "      <td>0.21</td>\n",
       "    </tr>\n",
       "    <tr>\n",
       "      <th>307</th>\n",
       "      <td>fevereiro 2020</td>\n",
       "      <td>0.25</td>\n",
       "    </tr>\n",
       "  </tbody>\n",
       "</table>\n",
       "<p>308 rows × 2 columns</p>\n",
       "</div>"
      ],
      "text/plain": [
       "             periodo  inflacao\n",
       "0        julho 1994       6.84\n",
       "1       agosto 1994       1.86\n",
       "2     setembro 1994       1.53\n",
       "3      outubro 1994       2.62\n",
       "4     novembro 1994       2.81\n",
       "..               ...       ...\n",
       "303    outubro 2019       0.10\n",
       "304   novembro 2019       0.51\n",
       "305   dezembro 2019       1.15\n",
       "306    janeiro 2020       0.21\n",
       "307   fevereiro 2020      0.25\n",
       "\n",
       "[308 rows x 2 columns]"
      ]
     },
     "execution_count": 23,
     "metadata": {},
     "output_type": "execute_result"
    }
   ],
   "source": [
    "df2"
   ]
  },
  {
   "cell_type": "code",
   "execution_count": 34,
   "metadata": {},
   "outputs": [],
   "source": [
    "df_cambio = pd.read_csv('ipeadata[26-03-2020-11-49].csv', header = 0)"
   ]
  },
  {
   "cell_type": "code",
   "execution_count": 35,
   "metadata": {},
   "outputs": [
    {
     "data": {
      "text/html": [
       "<div>\n",
       "<style scoped>\n",
       "    .dataframe tbody tr th:only-of-type {\n",
       "        vertical-align: middle;\n",
       "    }\n",
       "\n",
       "    .dataframe tbody tr th {\n",
       "        vertical-align: top;\n",
       "    }\n",
       "\n",
       "    .dataframe thead th {\n",
       "        text-align: right;\n",
       "    }\n",
       "</style>\n",
       "<table border=\"1\" class=\"dataframe\">\n",
       "  <thead>\n",
       "    <tr style=\"text-align: right;\">\n",
       "      <th></th>\n",
       "      <th>Data</th>\n",
       "      <th>Taxa de câmbio - R$ / US$ - comercial - compra - média - R$ - Banco Central do Brasil- Boletim- Seção Balanço de Pagamentos (Bacen / Boletim / BP) - BM12_ERC12</th>\n",
       "      <th>Unnamed: 2</th>\n",
       "    </tr>\n",
       "  </thead>\n",
       "  <tbody>\n",
       "    <tr>\n",
       "      <th>0</th>\n",
       "      <td>1953.01</td>\n",
       "      <td>6.683636e-15</td>\n",
       "      <td>NaN</td>\n",
       "    </tr>\n",
       "    <tr>\n",
       "      <th>1</th>\n",
       "      <td>1953.02</td>\n",
       "      <td>1.337829e-14</td>\n",
       "      <td>NaN</td>\n",
       "    </tr>\n",
       "    <tr>\n",
       "      <th>2</th>\n",
       "      <td>1953.03</td>\n",
       "      <td>1.337829e-14</td>\n",
       "      <td>NaN</td>\n",
       "    </tr>\n",
       "    <tr>\n",
       "      <th>3</th>\n",
       "      <td>1953.04</td>\n",
       "      <td>1.488364e-14</td>\n",
       "      <td>NaN</td>\n",
       "    </tr>\n",
       "    <tr>\n",
       "      <th>4</th>\n",
       "      <td>1953.05</td>\n",
       "      <td>1.427567e-14</td>\n",
       "      <td>NaN</td>\n",
       "    </tr>\n",
       "  </tbody>\n",
       "</table>\n",
       "</div>"
      ],
      "text/plain": [
       "      Data  \\\n",
       "0  1953.01   \n",
       "1  1953.02   \n",
       "2  1953.03   \n",
       "3  1953.04   \n",
       "4  1953.05   \n",
       "\n",
       "   Taxa de câmbio - R$ / US$ - comercial - compra - média - R$ - Banco Central do Brasil- Boletim- Seção Balanço de Pagamentos (Bacen / Boletim / BP) - BM12_ERC12  \\\n",
       "0                                       6.683636e-15                                                                                                                 \n",
       "1                                       1.337829e-14                                                                                                                 \n",
       "2                                       1.337829e-14                                                                                                                 \n",
       "3                                       1.488364e-14                                                                                                                 \n",
       "4                                       1.427567e-14                                                                                                                 \n",
       "\n",
       "   Unnamed: 2  \n",
       "0         NaN  \n",
       "1         NaN  \n",
       "2         NaN  \n",
       "3         NaN  \n",
       "4         NaN  "
      ]
     },
     "execution_count": 35,
     "metadata": {},
     "output_type": "execute_result"
    }
   ],
   "source": [
    "df_cambio.head()"
   ]
  },
  {
   "cell_type": "code",
   "execution_count": 36,
   "metadata": {},
   "outputs": [
    {
     "name": "stdout",
     "output_type": "stream",
     "text": [
      "<class 'pandas.core.frame.DataFrame'>\n",
      "RangeIndex: 806 entries, 0 to 805\n",
      "Data columns (total 3 columns):\n",
      " #   Column                                                                                                                                                           Non-Null Count  Dtype  \n",
      "---  ------                                                                                                                                                           --------------  -----  \n",
      " 0   Data                                                                                                                                                             806 non-null    float64\n",
      " 1   Taxa de câmbio - R$ / US$ - comercial - compra - média - R$ - Banco Central do Brasil- Boletim- Seção Balanço de Pagamentos (Bacen / Boletim / BP) - BM12_ERC12  806 non-null    float64\n",
      " 2   Unnamed: 2                                                                                                                                                       0 non-null      float64\n",
      "dtypes: float64(3)\n",
      "memory usage: 19.0 KB\n"
     ]
    }
   ],
   "source": [
    "df_cambio.info()"
   ]
  },
  {
   "cell_type": "code",
   "execution_count": 37,
   "metadata": {},
   "outputs": [],
   "source": [
    "df_cambio = df_cambio.rename(columns={'Taxa de câmbio - R$ / US$ - comercial - compra - média - R$ - Banco Central do Brasil- Boletim- Seção Balanço de Pagamentos (Bacen / Boletim / BP) - BM12_ERC12':'cotacao'})"
   ]
  },
  {
   "cell_type": "code",
   "execution_count": 38,
   "metadata": {},
   "outputs": [
    {
     "data": {
      "text/html": [
       "<div>\n",
       "<style scoped>\n",
       "    .dataframe tbody tr th:only-of-type {\n",
       "        vertical-align: middle;\n",
       "    }\n",
       "\n",
       "    .dataframe tbody tr th {\n",
       "        vertical-align: top;\n",
       "    }\n",
       "\n",
       "    .dataframe thead th {\n",
       "        text-align: right;\n",
       "    }\n",
       "</style>\n",
       "<table border=\"1\" class=\"dataframe\">\n",
       "  <thead>\n",
       "    <tr style=\"text-align: right;\">\n",
       "      <th></th>\n",
       "      <th>Data</th>\n",
       "      <th>cotacao</th>\n",
       "      <th>Unnamed: 2</th>\n",
       "    </tr>\n",
       "  </thead>\n",
       "  <tbody>\n",
       "    <tr>\n",
       "      <th>0</th>\n",
       "      <td>1953.01</td>\n",
       "      <td>6.683636e-15</td>\n",
       "      <td>NaN</td>\n",
       "    </tr>\n",
       "    <tr>\n",
       "      <th>1</th>\n",
       "      <td>1953.02</td>\n",
       "      <td>1.337829e-14</td>\n",
       "      <td>NaN</td>\n",
       "    </tr>\n",
       "    <tr>\n",
       "      <th>2</th>\n",
       "      <td>1953.03</td>\n",
       "      <td>1.337829e-14</td>\n",
       "      <td>NaN</td>\n",
       "    </tr>\n",
       "    <tr>\n",
       "      <th>3</th>\n",
       "      <td>1953.04</td>\n",
       "      <td>1.488364e-14</td>\n",
       "      <td>NaN</td>\n",
       "    </tr>\n",
       "    <tr>\n",
       "      <th>4</th>\n",
       "      <td>1953.05</td>\n",
       "      <td>1.427567e-14</td>\n",
       "      <td>NaN</td>\n",
       "    </tr>\n",
       "  </tbody>\n",
       "</table>\n",
       "</div>"
      ],
      "text/plain": [
       "      Data       cotacao  Unnamed: 2\n",
       "0  1953.01  6.683636e-15         NaN\n",
       "1  1953.02  1.337829e-14         NaN\n",
       "2  1953.03  1.337829e-14         NaN\n",
       "3  1953.04  1.488364e-14         NaN\n",
       "4  1953.05  1.427567e-14         NaN"
      ]
     },
     "execution_count": 38,
     "metadata": {},
     "output_type": "execute_result"
    }
   ],
   "source": [
    "df_cambio.head()"
   ]
  },
  {
   "cell_type": "code",
   "execution_count": 39,
   "metadata": {},
   "outputs": [],
   "source": [
    "df_cambio = df_cambio.drop(['Unnamed: 2'], axis = 1)"
   ]
  },
  {
   "cell_type": "code",
   "execution_count": 40,
   "metadata": {},
   "outputs": [
    {
     "data": {
      "text/html": [
       "<div>\n",
       "<style scoped>\n",
       "    .dataframe tbody tr th:only-of-type {\n",
       "        vertical-align: middle;\n",
       "    }\n",
       "\n",
       "    .dataframe tbody tr th {\n",
       "        vertical-align: top;\n",
       "    }\n",
       "\n",
       "    .dataframe thead th {\n",
       "        text-align: right;\n",
       "    }\n",
       "</style>\n",
       "<table border=\"1\" class=\"dataframe\">\n",
       "  <thead>\n",
       "    <tr style=\"text-align: right;\">\n",
       "      <th></th>\n",
       "      <th>Data</th>\n",
       "      <th>cotacao</th>\n",
       "    </tr>\n",
       "  </thead>\n",
       "  <tbody>\n",
       "    <tr>\n",
       "      <th>0</th>\n",
       "      <td>1953.01</td>\n",
       "      <td>6.683636e-15</td>\n",
       "    </tr>\n",
       "    <tr>\n",
       "      <th>1</th>\n",
       "      <td>1953.02</td>\n",
       "      <td>1.337829e-14</td>\n",
       "    </tr>\n",
       "    <tr>\n",
       "      <th>2</th>\n",
       "      <td>1953.03</td>\n",
       "      <td>1.337829e-14</td>\n",
       "    </tr>\n",
       "  </tbody>\n",
       "</table>\n",
       "</div>"
      ],
      "text/plain": [
       "      Data       cotacao\n",
       "0  1953.01  6.683636e-15\n",
       "1  1953.02  1.337829e-14\n",
       "2  1953.03  1.337829e-14"
      ]
     },
     "execution_count": 40,
     "metadata": {},
     "output_type": "execute_result"
    }
   ],
   "source": [
    "df_cambio.head(3)"
   ]
  },
  {
   "cell_type": "code",
   "execution_count": 41,
   "metadata": {},
   "outputs": [],
   "source": [
    "import re"
   ]
  },
  {
   "cell_type": "code",
   "execution_count": 42,
   "metadata": {},
   "outputs": [
    {
     "data": {
      "text/plain": [
       "Data       float64\n",
       "cotacao    float64\n",
       "dtype: object"
      ]
     },
     "execution_count": 42,
     "metadata": {},
     "output_type": "execute_result"
    }
   ],
   "source": [
    "df_cambio.dtypes"
   ]
  },
  {
   "cell_type": "code",
   "execution_count": 43,
   "metadata": {},
   "outputs": [],
   "source": [
    "df_cambio['cotacao'] = pd.Series(df_cambio['cotacao'])"
   ]
  },
  {
   "cell_type": "code",
   "execution_count": 44,
   "metadata": {},
   "outputs": [
    {
     "data": {
      "text/plain": [
       "Data       float64\n",
       "cotacao    float64\n",
       "dtype: object"
      ]
     },
     "execution_count": 44,
     "metadata": {},
     "output_type": "execute_result"
    }
   ],
   "source": [
    "df_cambio.dtypes"
   ]
  },
  {
   "cell_type": "code",
   "execution_count": 45,
   "metadata": {},
   "outputs": [],
   "source": [
    "df_cambio['cotacao'] = df_cambio['cotacao'].astype(str)"
   ]
  },
  {
   "cell_type": "code",
   "execution_count": 46,
   "metadata": {},
   "outputs": [
    {
     "data": {
      "text/plain": [
       "Data       float64\n",
       "cotacao     object\n",
       "dtype: object"
      ]
     },
     "execution_count": 46,
     "metadata": {},
     "output_type": "execute_result"
    }
   ],
   "source": [
    "df_cambio.dtypes"
   ]
  },
  {
   "cell_type": "code",
   "execution_count": 47,
   "metadata": {},
   "outputs": [],
   "source": [
    "def clean_currency(x):\n",
    "    \"\"\" If the value is a string, then remove currency symbol and delimiters\n",
    "    otherwise, the value is numeric and can be converted\n",
    "    \"\"\"\n",
    "    if isinstance(x, str):\n",
    "        return(x.replace('e', '').replace('-', ''))\n",
    "    return(x)"
   ]
  },
  {
   "cell_type": "code",
   "execution_count": 48,
   "metadata": {},
   "outputs": [],
   "source": [
    "df_cambio['cotacao'] = df_cambio['cotacao'].apply(clean_currency).astype('float')"
   ]
  },
  {
   "cell_type": "code",
   "execution_count": 49,
   "metadata": {},
   "outputs": [
    {
     "data": {
      "text/plain": [
       "0    6.683636\n",
       "1    1.337829\n",
       "2    1.337829\n",
       "Name: cotacao, dtype: float64"
      ]
     },
     "execution_count": 49,
     "metadata": {},
     "output_type": "execute_result"
    }
   ],
   "source": [
    "df_cambio['cotacao'].head(3)"
   ]
  },
  {
   "cell_type": "code",
   "execution_count": 50,
   "metadata": {},
   "outputs": [],
   "source": [
    "import math"
   ]
  },
  {
   "cell_type": "code",
   "execution_count": 51,
   "metadata": {},
   "outputs": [],
   "source": [
    "cotacao = pd.Series(df_cambio['cotacao'])"
   ]
  },
  {
   "cell_type": "code",
   "execution_count": 52,
   "metadata": {},
   "outputs": [
    {
     "data": {
      "text/plain": [
       "pandas.core.series.Series"
      ]
     },
     "execution_count": 52,
     "metadata": {},
     "output_type": "execute_result"
    }
   ],
   "source": [
    "type(cotacao)"
   ]
  },
  {
   "cell_type": "code",
   "execution_count": 53,
   "metadata": {},
   "outputs": [],
   "source": [
    "def round_up(n, decimals=0):\n",
    "    multiplier = 10 ** decimals\n",
    "    return math.ceil(n * multiplier) / multiplier"
   ]
  },
  {
   "cell_type": "code",
   "execution_count": 54,
   "metadata": {},
   "outputs": [],
   "source": [
    "df_cambio['cotacao'] = cotacao.apply(lambda x: round_up(x, 2))"
   ]
  },
  {
   "cell_type": "code",
   "execution_count": 55,
   "metadata": {},
   "outputs": [
    {
     "data": {
      "text/html": [
       "<div>\n",
       "<style scoped>\n",
       "    .dataframe tbody tr th:only-of-type {\n",
       "        vertical-align: middle;\n",
       "    }\n",
       "\n",
       "    .dataframe tbody tr th {\n",
       "        vertical-align: top;\n",
       "    }\n",
       "\n",
       "    .dataframe thead th {\n",
       "        text-align: right;\n",
       "    }\n",
       "</style>\n",
       "<table border=\"1\" class=\"dataframe\">\n",
       "  <thead>\n",
       "    <tr style=\"text-align: right;\">\n",
       "      <th></th>\n",
       "      <th>Data</th>\n",
       "      <th>cotacao</th>\n",
       "    </tr>\n",
       "  </thead>\n",
       "  <tbody>\n",
       "    <tr>\n",
       "      <th>0</th>\n",
       "      <td>1953.01</td>\n",
       "      <td>6.69</td>\n",
       "    </tr>\n",
       "    <tr>\n",
       "      <th>1</th>\n",
       "      <td>1953.02</td>\n",
       "      <td>1.34</td>\n",
       "    </tr>\n",
       "    <tr>\n",
       "      <th>2</th>\n",
       "      <td>1953.03</td>\n",
       "      <td>1.34</td>\n",
       "    </tr>\n",
       "    <tr>\n",
       "      <th>3</th>\n",
       "      <td>1953.04</td>\n",
       "      <td>1.49</td>\n",
       "    </tr>\n",
       "    <tr>\n",
       "      <th>4</th>\n",
       "      <td>1953.05</td>\n",
       "      <td>1.43</td>\n",
       "    </tr>\n",
       "    <tr>\n",
       "      <th>...</th>\n",
       "      <td>...</td>\n",
       "      <td>...</td>\n",
       "    </tr>\n",
       "    <tr>\n",
       "      <th>801</th>\n",
       "      <td>2019.10</td>\n",
       "      <td>4.09</td>\n",
       "    </tr>\n",
       "    <tr>\n",
       "      <th>802</th>\n",
       "      <td>2019.11</td>\n",
       "      <td>4.16</td>\n",
       "    </tr>\n",
       "    <tr>\n",
       "      <th>803</th>\n",
       "      <td>2019.12</td>\n",
       "      <td>4.11</td>\n",
       "    </tr>\n",
       "    <tr>\n",
       "      <th>804</th>\n",
       "      <td>2020.01</td>\n",
       "      <td>4.15</td>\n",
       "    </tr>\n",
       "    <tr>\n",
       "      <th>805</th>\n",
       "      <td>2020.02</td>\n",
       "      <td>4.35</td>\n",
       "    </tr>\n",
       "  </tbody>\n",
       "</table>\n",
       "<p>806 rows × 2 columns</p>\n",
       "</div>"
      ],
      "text/plain": [
       "        Data  cotacao\n",
       "0    1953.01     6.69\n",
       "1    1953.02     1.34\n",
       "2    1953.03     1.34\n",
       "3    1953.04     1.49\n",
       "4    1953.05     1.43\n",
       "..       ...      ...\n",
       "801  2019.10     4.09\n",
       "802  2019.11     4.16\n",
       "803  2019.12     4.11\n",
       "804  2020.01     4.15\n",
       "805  2020.02     4.35\n",
       "\n",
       "[806 rows x 2 columns]"
      ]
     },
     "execution_count": 55,
     "metadata": {},
     "output_type": "execute_result"
    }
   ],
   "source": [
    "df_cambio"
   ]
  },
  {
   "cell_type": "code",
   "execution_count": 56,
   "metadata": {},
   "outputs": [
    {
     "data": {
      "text/plain": [
       "Data       1955.06\n",
       "cotacao       2.69\n",
       "Name: 29, dtype: float64"
      ]
     },
     "execution_count": 56,
     "metadata": {},
     "output_type": "execute_result"
    }
   ],
   "source": [
    "df_cambio.iloc[29]"
   ]
  },
  {
   "cell_type": "code",
   "execution_count": 57,
   "metadata": {},
   "outputs": [
    {
     "data": {
      "text/html": [
       "<div>\n",
       "<style scoped>\n",
       "    .dataframe tbody tr th:only-of-type {\n",
       "        vertical-align: middle;\n",
       "    }\n",
       "\n",
       "    .dataframe tbody tr th {\n",
       "        vertical-align: top;\n",
       "    }\n",
       "\n",
       "    .dataframe thead th {\n",
       "        text-align: right;\n",
       "    }\n",
       "</style>\n",
       "<table border=\"1\" class=\"dataframe\">\n",
       "  <thead>\n",
       "    <tr style=\"text-align: right;\">\n",
       "      <th></th>\n",
       "      <th>cotacao</th>\n",
       "    </tr>\n",
       "    <tr>\n",
       "      <th>Data</th>\n",
       "      <th></th>\n",
       "    </tr>\n",
       "  </thead>\n",
       "  <tbody>\n",
       "    <tr>\n",
       "      <th>1953.01</th>\n",
       "      <td>6.69</td>\n",
       "    </tr>\n",
       "    <tr>\n",
       "      <th>1953.02</th>\n",
       "      <td>1.34</td>\n",
       "    </tr>\n",
       "    <tr>\n",
       "      <th>1953.03</th>\n",
       "      <td>1.34</td>\n",
       "    </tr>\n",
       "    <tr>\n",
       "      <th>1953.04</th>\n",
       "      <td>1.49</td>\n",
       "    </tr>\n",
       "    <tr>\n",
       "      <th>1953.05</th>\n",
       "      <td>1.43</td>\n",
       "    </tr>\n",
       "    <tr>\n",
       "      <th>...</th>\n",
       "      <td>...</td>\n",
       "    </tr>\n",
       "    <tr>\n",
       "      <th>2019.10</th>\n",
       "      <td>4.09</td>\n",
       "    </tr>\n",
       "    <tr>\n",
       "      <th>2019.11</th>\n",
       "      <td>4.16</td>\n",
       "    </tr>\n",
       "    <tr>\n",
       "      <th>2019.12</th>\n",
       "      <td>4.11</td>\n",
       "    </tr>\n",
       "    <tr>\n",
       "      <th>2020.01</th>\n",
       "      <td>4.15</td>\n",
       "    </tr>\n",
       "    <tr>\n",
       "      <th>2020.02</th>\n",
       "      <td>4.35</td>\n",
       "    </tr>\n",
       "  </tbody>\n",
       "</table>\n",
       "<p>806 rows × 1 columns</p>\n",
       "</div>"
      ],
      "text/plain": [
       "         cotacao\n",
       "Data            \n",
       "1953.01     6.69\n",
       "1953.02     1.34\n",
       "1953.03     1.34\n",
       "1953.04     1.49\n",
       "1953.05     1.43\n",
       "...          ...\n",
       "2019.10     4.09\n",
       "2019.11     4.16\n",
       "2019.12     4.11\n",
       "2020.01     4.15\n",
       "2020.02     4.35\n",
       "\n",
       "[806 rows x 1 columns]"
      ]
     },
     "execution_count": 57,
     "metadata": {},
     "output_type": "execute_result"
    }
   ],
   "source": [
    "df_cambio.set_index('Data')"
   ]
  },
  {
   "cell_type": "code",
   "execution_count": 58,
   "metadata": {},
   "outputs": [
    {
     "name": "stdout",
     "output_type": "stream",
     "text": [
      "<class 'pandas.core.frame.DataFrame'>\n",
      "RangeIndex: 806 entries, 0 to 805\n",
      "Data columns (total 2 columns):\n",
      " #   Column   Non-Null Count  Dtype  \n",
      "---  ------   --------------  -----  \n",
      " 0   Data     806 non-null    float64\n",
      " 1   cotacao  806 non-null    float64\n",
      "dtypes: float64(2)\n",
      "memory usage: 12.7 KB\n"
     ]
    }
   ],
   "source": [
    "df_cambio.info()"
   ]
  },
  {
   "cell_type": "code",
   "execution_count": 59,
   "metadata": {},
   "outputs": [
    {
     "data": {
      "text/plain": [
       "Data       float64\n",
       "cotacao    float64\n",
       "dtype: object"
      ]
     },
     "execution_count": 59,
     "metadata": {},
     "output_type": "execute_result"
    }
   ],
   "source": [
    "df_cambio.dtypes"
   ]
  },
  {
   "cell_type": "code",
   "execution_count": 60,
   "metadata": {},
   "outputs": [
    {
     "data": {
      "text/plain": [
       "Index(['0', '1', '2', '3', '4', '5', '6', '7', '8', '9',\n",
       "       ...\n",
       "       '796', '797', '798', '799', '800', '801', '802', '803', '804', '805'],\n",
       "      dtype='object', length=806)"
      ]
     },
     "execution_count": 60,
     "metadata": {},
     "output_type": "execute_result"
    }
   ],
   "source": [
    "df_cambio.index.astype(str)"
   ]
  },
  {
   "cell_type": "code",
   "execution_count": 61,
   "metadata": {},
   "outputs": [
    {
     "data": {
      "text/plain": [
       "Data       1994.07\n",
       "cotacao       0.93\n",
       "Name: 498, dtype: float64"
      ]
     },
     "execution_count": 61,
     "metadata": {},
     "output_type": "execute_result"
    }
   ],
   "source": [
    "df_cambio.loc[498]"
   ]
  },
  {
   "cell_type": "code",
   "execution_count": 62,
   "metadata": {},
   "outputs": [],
   "source": [
    "df_cambio['Data']=df_cambio['Data'].astype(str)"
   ]
  },
  {
   "cell_type": "code",
   "execution_count": 63,
   "metadata": {},
   "outputs": [
    {
     "data": {
      "text/plain": [
       "Data        object\n",
       "cotacao    float64\n",
       "dtype: object"
      ]
     },
     "execution_count": 63,
     "metadata": {},
     "output_type": "execute_result"
    }
   ],
   "source": [
    "df_cambio.dtypes"
   ]
  },
  {
   "cell_type": "code",
   "execution_count": 64,
   "metadata": {},
   "outputs": [
    {
     "data": {
      "text/html": [
       "<div>\n",
       "<style scoped>\n",
       "    .dataframe tbody tr th:only-of-type {\n",
       "        vertical-align: middle;\n",
       "    }\n",
       "\n",
       "    .dataframe tbody tr th {\n",
       "        vertical-align: top;\n",
       "    }\n",
       "\n",
       "    .dataframe thead th {\n",
       "        text-align: right;\n",
       "    }\n",
       "</style>\n",
       "<table border=\"1\" class=\"dataframe\">\n",
       "  <thead>\n",
       "    <tr style=\"text-align: right;\">\n",
       "      <th></th>\n",
       "      <th>cotacao</th>\n",
       "    </tr>\n",
       "    <tr>\n",
       "      <th>Data</th>\n",
       "      <th></th>\n",
       "    </tr>\n",
       "  </thead>\n",
       "  <tbody>\n",
       "    <tr>\n",
       "      <th>1953.01</th>\n",
       "      <td>6.69</td>\n",
       "    </tr>\n",
       "    <tr>\n",
       "      <th>1953.02</th>\n",
       "      <td>1.34</td>\n",
       "    </tr>\n",
       "    <tr>\n",
       "      <th>1953.03</th>\n",
       "      <td>1.34</td>\n",
       "    </tr>\n",
       "    <tr>\n",
       "      <th>1953.04</th>\n",
       "      <td>1.49</td>\n",
       "    </tr>\n",
       "    <tr>\n",
       "      <th>1953.05</th>\n",
       "      <td>1.43</td>\n",
       "    </tr>\n",
       "    <tr>\n",
       "      <th>...</th>\n",
       "      <td>...</td>\n",
       "    </tr>\n",
       "    <tr>\n",
       "      <th>2019.1</th>\n",
       "      <td>4.09</td>\n",
       "    </tr>\n",
       "    <tr>\n",
       "      <th>2019.11</th>\n",
       "      <td>4.16</td>\n",
       "    </tr>\n",
       "    <tr>\n",
       "      <th>2019.12</th>\n",
       "      <td>4.11</td>\n",
       "    </tr>\n",
       "    <tr>\n",
       "      <th>2020.01</th>\n",
       "      <td>4.15</td>\n",
       "    </tr>\n",
       "    <tr>\n",
       "      <th>2020.02</th>\n",
       "      <td>4.35</td>\n",
       "    </tr>\n",
       "  </tbody>\n",
       "</table>\n",
       "<p>806 rows × 1 columns</p>\n",
       "</div>"
      ],
      "text/plain": [
       "         cotacao\n",
       "Data            \n",
       "1953.01     6.69\n",
       "1953.02     1.34\n",
       "1953.03     1.34\n",
       "1953.04     1.49\n",
       "1953.05     1.43\n",
       "...          ...\n",
       "2019.1      4.09\n",
       "2019.11     4.16\n",
       "2019.12     4.11\n",
       "2020.01     4.15\n",
       "2020.02     4.35\n",
       "\n",
       "[806 rows x 1 columns]"
      ]
     },
     "execution_count": 64,
     "metadata": {},
     "output_type": "execute_result"
    }
   ],
   "source": [
    "df_cambio.set_index('Data')"
   ]
  },
  {
   "cell_type": "code",
   "execution_count": 65,
   "metadata": {},
   "outputs": [
    {
     "data": {
      "text/plain": [
       "Data       1994.07\n",
       "cotacao       0.93\n",
       "Name: 498, dtype: object"
      ]
     },
     "execution_count": 65,
     "metadata": {},
     "output_type": "execute_result"
    }
   ],
   "source": [
    "df_cambio.iloc[498]"
   ]
  },
  {
   "cell_type": "code",
   "execution_count": 66,
   "metadata": {},
   "outputs": [
    {
     "data": {
      "text/html": [
       "<div>\n",
       "<style scoped>\n",
       "    .dataframe tbody tr th:only-of-type {\n",
       "        vertical-align: middle;\n",
       "    }\n",
       "\n",
       "    .dataframe tbody tr th {\n",
       "        vertical-align: top;\n",
       "    }\n",
       "\n",
       "    .dataframe thead th {\n",
       "        text-align: right;\n",
       "    }\n",
       "</style>\n",
       "<table border=\"1\" class=\"dataframe\">\n",
       "  <thead>\n",
       "    <tr style=\"text-align: right;\">\n",
       "      <th></th>\n",
       "      <th>Data</th>\n",
       "      <th>cotacao</th>\n",
       "    </tr>\n",
       "  </thead>\n",
       "  <tbody>\n",
       "    <tr>\n",
       "      <th>0</th>\n",
       "      <td>1953.01</td>\n",
       "      <td>6.69</td>\n",
       "    </tr>\n",
       "    <tr>\n",
       "      <th>1</th>\n",
       "      <td>1953.02</td>\n",
       "      <td>1.34</td>\n",
       "    </tr>\n",
       "    <tr>\n",
       "      <th>2</th>\n",
       "      <td>1953.03</td>\n",
       "      <td>1.34</td>\n",
       "    </tr>\n",
       "    <tr>\n",
       "      <th>3</th>\n",
       "      <td>1953.04</td>\n",
       "      <td>1.49</td>\n",
       "    </tr>\n",
       "    <tr>\n",
       "      <th>4</th>\n",
       "      <td>1953.05</td>\n",
       "      <td>1.43</td>\n",
       "    </tr>\n",
       "    <tr>\n",
       "      <th>...</th>\n",
       "      <td>...</td>\n",
       "      <td>...</td>\n",
       "    </tr>\n",
       "    <tr>\n",
       "      <th>493</th>\n",
       "      <td>1994.02</td>\n",
       "      <td>0.21</td>\n",
       "    </tr>\n",
       "    <tr>\n",
       "      <th>494</th>\n",
       "      <td>1994.03</td>\n",
       "      <td>0.28</td>\n",
       "    </tr>\n",
       "    <tr>\n",
       "      <th>495</th>\n",
       "      <td>1994.04</td>\n",
       "      <td>0.41</td>\n",
       "    </tr>\n",
       "    <tr>\n",
       "      <th>496</th>\n",
       "      <td>1994.05</td>\n",
       "      <td>0.58</td>\n",
       "    </tr>\n",
       "    <tr>\n",
       "      <th>497</th>\n",
       "      <td>1994.06</td>\n",
       "      <td>0.84</td>\n",
       "    </tr>\n",
       "  </tbody>\n",
       "</table>\n",
       "<p>498 rows × 2 columns</p>\n",
       "</div>"
      ],
      "text/plain": [
       "        Data  cotacao\n",
       "0    1953.01     6.69\n",
       "1    1953.02     1.34\n",
       "2    1953.03     1.34\n",
       "3    1953.04     1.49\n",
       "4    1953.05     1.43\n",
       "..       ...      ...\n",
       "493  1994.02     0.21\n",
       "494  1994.03     0.28\n",
       "495  1994.04     0.41\n",
       "496  1994.05     0.58\n",
       "497  1994.06     0.84\n",
       "\n",
       "[498 rows x 2 columns]"
      ]
     },
     "execution_count": 66,
     "metadata": {},
     "output_type": "execute_result"
    }
   ],
   "source": [
    "df_cambio.iloc[0:498]"
   ]
  },
  {
   "cell_type": "code",
   "execution_count": 67,
   "metadata": {},
   "outputs": [],
   "source": [
    "df_cambio.drop(df_cambio.iloc[0:498].index, inplace=True)"
   ]
  },
  {
   "cell_type": "code",
   "execution_count": 68,
   "metadata": {},
   "outputs": [
    {
     "data": {
      "text/html": [
       "<div>\n",
       "<style scoped>\n",
       "    .dataframe tbody tr th:only-of-type {\n",
       "        vertical-align: middle;\n",
       "    }\n",
       "\n",
       "    .dataframe tbody tr th {\n",
       "        vertical-align: top;\n",
       "    }\n",
       "\n",
       "    .dataframe thead th {\n",
       "        text-align: right;\n",
       "    }\n",
       "</style>\n",
       "<table border=\"1\" class=\"dataframe\">\n",
       "  <thead>\n",
       "    <tr style=\"text-align: right;\">\n",
       "      <th></th>\n",
       "      <th>cotacao</th>\n",
       "    </tr>\n",
       "    <tr>\n",
       "      <th>Data</th>\n",
       "      <th></th>\n",
       "    </tr>\n",
       "  </thead>\n",
       "  <tbody>\n",
       "    <tr>\n",
       "      <th>1994.07</th>\n",
       "      <td>0.93</td>\n",
       "    </tr>\n",
       "    <tr>\n",
       "      <th>1994.08</th>\n",
       "      <td>0.90</td>\n",
       "    </tr>\n",
       "    <tr>\n",
       "      <th>1994.09</th>\n",
       "      <td>0.87</td>\n",
       "    </tr>\n",
       "    <tr>\n",
       "      <th>1994.1</th>\n",
       "      <td>0.85</td>\n",
       "    </tr>\n",
       "    <tr>\n",
       "      <th>1994.11</th>\n",
       "      <td>0.84</td>\n",
       "    </tr>\n",
       "    <tr>\n",
       "      <th>...</th>\n",
       "      <td>...</td>\n",
       "    </tr>\n",
       "    <tr>\n",
       "      <th>2019.1</th>\n",
       "      <td>4.09</td>\n",
       "    </tr>\n",
       "    <tr>\n",
       "      <th>2019.11</th>\n",
       "      <td>4.16</td>\n",
       "    </tr>\n",
       "    <tr>\n",
       "      <th>2019.12</th>\n",
       "      <td>4.11</td>\n",
       "    </tr>\n",
       "    <tr>\n",
       "      <th>2020.01</th>\n",
       "      <td>4.15</td>\n",
       "    </tr>\n",
       "    <tr>\n",
       "      <th>2020.02</th>\n",
       "      <td>4.35</td>\n",
       "    </tr>\n",
       "  </tbody>\n",
       "</table>\n",
       "<p>308 rows × 1 columns</p>\n",
       "</div>"
      ],
      "text/plain": [
       "         cotacao\n",
       "Data            \n",
       "1994.07     0.93\n",
       "1994.08     0.90\n",
       "1994.09     0.87\n",
       "1994.1      0.85\n",
       "1994.11     0.84\n",
       "...          ...\n",
       "2019.1      4.09\n",
       "2019.11     4.16\n",
       "2019.12     4.11\n",
       "2020.01     4.15\n",
       "2020.02     4.35\n",
       "\n",
       "[308 rows x 1 columns]"
      ]
     },
     "execution_count": 68,
     "metadata": {},
     "output_type": "execute_result"
    }
   ],
   "source": [
    "df_cambio.set_index('Data')"
   ]
  },
  {
   "cell_type": "code",
   "execution_count": 69,
   "metadata": {},
   "outputs": [
    {
     "data": {
      "text/html": [
       "<div>\n",
       "<style scoped>\n",
       "    .dataframe tbody tr th:only-of-type {\n",
       "        vertical-align: middle;\n",
       "    }\n",
       "\n",
       "    .dataframe tbody tr th {\n",
       "        vertical-align: top;\n",
       "    }\n",
       "\n",
       "    .dataframe thead th {\n",
       "        text-align: right;\n",
       "    }\n",
       "</style>\n",
       "<table border=\"1\" class=\"dataframe\">\n",
       "  <thead>\n",
       "    <tr style=\"text-align: right;\">\n",
       "      <th></th>\n",
       "      <th>inflacao</th>\n",
       "    </tr>\n",
       "    <tr>\n",
       "      <th>periodo</th>\n",
       "      <th></th>\n",
       "    </tr>\n",
       "  </thead>\n",
       "  <tbody>\n",
       "    <tr>\n",
       "      <th>julho 1994</th>\n",
       "      <td>6.84</td>\n",
       "    </tr>\n",
       "    <tr>\n",
       "      <th>agosto 1994</th>\n",
       "      <td>1.86</td>\n",
       "    </tr>\n",
       "    <tr>\n",
       "      <th>setembro 1994</th>\n",
       "      <td>1.53</td>\n",
       "    </tr>\n",
       "    <tr>\n",
       "      <th>outubro 1994</th>\n",
       "      <td>2.62</td>\n",
       "    </tr>\n",
       "    <tr>\n",
       "      <th>novembro 1994</th>\n",
       "      <td>2.81</td>\n",
       "    </tr>\n",
       "  </tbody>\n",
       "</table>\n",
       "</div>"
      ],
      "text/plain": [
       "                 inflacao\n",
       "periodo                  \n",
       " julho 1994          6.84\n",
       " agosto 1994         1.86\n",
       " setembro 1994       1.53\n",
       " outubro 1994        2.62\n",
       " novembro 1994       2.81"
      ]
     },
     "execution_count": 69,
     "metadata": {},
     "output_type": "execute_result"
    }
   ],
   "source": [
    "df2.set_index('periodo').head()"
   ]
  },
  {
   "cell_type": "code",
   "execution_count": 70,
   "metadata": {},
   "outputs": [
    {
     "data": {
      "text/plain": [
       "periodo      object\n",
       "inflacao    float64\n",
       "dtype: object"
      ]
     },
     "execution_count": 70,
     "metadata": {},
     "output_type": "execute_result"
    }
   ],
   "source": [
    "df2.dtypes"
   ]
  },
  {
   "cell_type": "code",
   "execution_count": 71,
   "metadata": {},
   "outputs": [
    {
     "data": {
      "text/plain": [
       "RangeIndex(start=0, stop=308, step=1)"
      ]
     },
     "execution_count": 71,
     "metadata": {},
     "output_type": "execute_result"
    }
   ],
   "source": [
    "df2.index"
   ]
  },
  {
   "cell_type": "code",
   "execution_count": 72,
   "metadata": {},
   "outputs": [
    {
     "data": {
      "text/html": [
       "<div>\n",
       "<style scoped>\n",
       "    .dataframe tbody tr th:only-of-type {\n",
       "        vertical-align: middle;\n",
       "    }\n",
       "\n",
       "    .dataframe tbody tr th {\n",
       "        vertical-align: top;\n",
       "    }\n",
       "\n",
       "    .dataframe thead th {\n",
       "        text-align: right;\n",
       "    }\n",
       "</style>\n",
       "<table border=\"1\" class=\"dataframe\">\n",
       "  <thead>\n",
       "    <tr style=\"text-align: right;\">\n",
       "      <th></th>\n",
       "      <th>Data</th>\n",
       "      <th>cotacao</th>\n",
       "    </tr>\n",
       "  </thead>\n",
       "  <tbody>\n",
       "    <tr>\n",
       "      <th>498</th>\n",
       "      <td>1994.07</td>\n",
       "      <td>0.93</td>\n",
       "    </tr>\n",
       "    <tr>\n",
       "      <th>499</th>\n",
       "      <td>1994.08</td>\n",
       "      <td>0.90</td>\n",
       "    </tr>\n",
       "    <tr>\n",
       "      <th>500</th>\n",
       "      <td>1994.09</td>\n",
       "      <td>0.87</td>\n",
       "    </tr>\n",
       "    <tr>\n",
       "      <th>501</th>\n",
       "      <td>1994.1</td>\n",
       "      <td>0.85</td>\n",
       "    </tr>\n",
       "    <tr>\n",
       "      <th>502</th>\n",
       "      <td>1994.11</td>\n",
       "      <td>0.84</td>\n",
       "    </tr>\n",
       "  </tbody>\n",
       "</table>\n",
       "</div>"
      ],
      "text/plain": [
       "        Data  cotacao\n",
       "498  1994.07     0.93\n",
       "499  1994.08     0.90\n",
       "500  1994.09     0.87\n",
       "501   1994.1     0.85\n",
       "502  1994.11     0.84"
      ]
     },
     "execution_count": 72,
     "metadata": {},
     "output_type": "execute_result"
    }
   ],
   "source": [
    "df_cambio.head()"
   ]
  },
  {
   "cell_type": "code",
   "execution_count": 73,
   "metadata": {},
   "outputs": [
    {
     "data": {
      "text/plain": [
       "498    1994.07\n",
       "499    1994.08\n",
       "500    1994.09\n",
       "501     1994.1\n",
       "502    1994.11\n",
       "Name: Data, dtype: object"
      ]
     },
     "execution_count": 73,
     "metadata": {},
     "output_type": "execute_result"
    }
   ],
   "source": [
    "df_cambio['Data'].astype(str).head()"
   ]
  },
  {
   "cell_type": "code",
   "execution_count": 74,
   "metadata": {},
   "outputs": [],
   "source": [
    "df_cambio['Data'] = df_cambio['Data'].astype(str)"
   ]
  },
  {
   "cell_type": "code",
   "execution_count": 75,
   "metadata": {},
   "outputs": [],
   "source": [
    "df_cambio['Data'] = df_cambio['Data'].str.replace(\".\",\"-\")"
   ]
  },
  {
   "cell_type": "code",
   "execution_count": 76,
   "metadata": {},
   "outputs": [
    {
     "data": {
      "text/plain": [
       "498    1994-07\n",
       "499    1994-08\n",
       "500    1994-09\n",
       "501     1994-1\n",
       "502    1994-11\n",
       "503    1994-12\n",
       "504    1995-01\n",
       "505    1995-02\n",
       "506    1995-03\n",
       "507    1995-04\n",
       "508    1995-05\n",
       "Name: Data, dtype: object"
      ]
     },
     "execution_count": 76,
     "metadata": {},
     "output_type": "execute_result"
    }
   ],
   "source": [
    "df_cambio['Data'].head(11)"
   ]
  },
  {
   "cell_type": "code",
   "execution_count": 77,
   "metadata": {},
   "outputs": [
    {
     "data": {
      "text/plain": [
       "498    1994-07\n",
       "499    1994-08\n",
       "500    1994-09\n",
       "501     1994-1\n",
       "502    1994-11\n",
       "Name: Data, dtype: object"
      ]
     },
     "execution_count": 77,
     "metadata": {},
     "output_type": "execute_result"
    }
   ],
   "source": [
    "df_cambio['Data'].head()"
   ]
  },
  {
   "cell_type": "code",
   "execution_count": 78,
   "metadata": {},
   "outputs": [
    {
     "data": {
      "text/html": [
       "<div>\n",
       "<style scoped>\n",
       "    .dataframe tbody tr th:only-of-type {\n",
       "        vertical-align: middle;\n",
       "    }\n",
       "\n",
       "    .dataframe tbody tr th {\n",
       "        vertical-align: top;\n",
       "    }\n",
       "\n",
       "    .dataframe thead th {\n",
       "        text-align: right;\n",
       "    }\n",
       "</style>\n",
       "<table border=\"1\" class=\"dataframe\">\n",
       "  <thead>\n",
       "    <tr style=\"text-align: right;\">\n",
       "      <th></th>\n",
       "      <th>cotacao</th>\n",
       "    </tr>\n",
       "    <tr>\n",
       "      <th>Data</th>\n",
       "      <th></th>\n",
       "    </tr>\n",
       "  </thead>\n",
       "  <tbody>\n",
       "    <tr>\n",
       "      <th>1994-07</th>\n",
       "      <td>0.93</td>\n",
       "    </tr>\n",
       "    <tr>\n",
       "      <th>1994-08</th>\n",
       "      <td>0.90</td>\n",
       "    </tr>\n",
       "    <tr>\n",
       "      <th>1994-09</th>\n",
       "      <td>0.87</td>\n",
       "    </tr>\n",
       "  </tbody>\n",
       "</table>\n",
       "</div>"
      ],
      "text/plain": [
       "         cotacao\n",
       "Data            \n",
       "1994-07     0.93\n",
       "1994-08     0.90\n",
       "1994-09     0.87"
      ]
     },
     "execution_count": 78,
     "metadata": {},
     "output_type": "execute_result"
    }
   ],
   "source": [
    "df_cambio.set_index('Data').head(3)\n"
   ]
  },
  {
   "cell_type": "code",
   "execution_count": 79,
   "metadata": {},
   "outputs": [
    {
     "name": "stdout",
     "output_type": "stream",
     "text": [
      "498    1994-07\n",
      "499    1994-08\n",
      "500    1994-09\n",
      "501     1994-1\n",
      "502    1994-11\n",
      "        ...   \n",
      "801     2019-1\n",
      "802    2019-11\n",
      "803    2019-12\n",
      "804    2020-01\n",
      "805    2020-02\n",
      "Name: Data, Length: 308, dtype: object\n"
     ]
    }
   ],
   "source": [
    "print(df_cambio['Data'])"
   ]
  },
  {
   "cell_type": "code",
   "execution_count": 80,
   "metadata": {},
   "outputs": [
    {
     "data": {
      "text/html": [
       "<div>\n",
       "<style scoped>\n",
       "    .dataframe tbody tr th:only-of-type {\n",
       "        vertical-align: middle;\n",
       "    }\n",
       "\n",
       "    .dataframe tbody tr th {\n",
       "        vertical-align: top;\n",
       "    }\n",
       "\n",
       "    .dataframe thead th {\n",
       "        text-align: right;\n",
       "    }\n",
       "</style>\n",
       "<table border=\"1\" class=\"dataframe\">\n",
       "  <thead>\n",
       "    <tr style=\"text-align: right;\">\n",
       "      <th></th>\n",
       "      <th>periodo</th>\n",
       "      <th>inflacao</th>\n",
       "    </tr>\n",
       "  </thead>\n",
       "  <tbody>\n",
       "    <tr>\n",
       "      <th>0</th>\n",
       "      <td>julho 1994</td>\n",
       "      <td>6.84</td>\n",
       "    </tr>\n",
       "    <tr>\n",
       "      <th>1</th>\n",
       "      <td>agosto 1994</td>\n",
       "      <td>1.86</td>\n",
       "    </tr>\n",
       "    <tr>\n",
       "      <th>2</th>\n",
       "      <td>setembro 1994</td>\n",
       "      <td>1.53</td>\n",
       "    </tr>\n",
       "    <tr>\n",
       "      <th>3</th>\n",
       "      <td>outubro 1994</td>\n",
       "      <td>2.62</td>\n",
       "    </tr>\n",
       "    <tr>\n",
       "      <th>4</th>\n",
       "      <td>novembro 1994</td>\n",
       "      <td>2.81</td>\n",
       "    </tr>\n",
       "  </tbody>\n",
       "</table>\n",
       "</div>"
      ],
      "text/plain": [
       "           periodo  inflacao\n",
       "0      julho 1994       6.84\n",
       "1     agosto 1994       1.86\n",
       "2   setembro 1994       1.53\n",
       "3    outubro 1994       2.62\n",
       "4   novembro 1994       2.81"
      ]
     },
     "execution_count": 80,
     "metadata": {},
     "output_type": "execute_result"
    }
   ],
   "source": [
    "df2.head()"
   ]
  },
  {
   "cell_type": "code",
   "execution_count": 81,
   "metadata": {},
   "outputs": [],
   "source": [
    "df2['periodo'] = df2['periodo'].str.replace(\"julho\",\"07\")"
   ]
  },
  {
   "cell_type": "code",
   "execution_count": 82,
   "metadata": {},
   "outputs": [],
   "source": [
    "df2['periodo'] = df2['periodo'].str.replace(\"agosto\", \"08\")\n",
    "df2['periodo'] = df2['periodo'].str.replace(\"setembro\",\"09\")\n",
    "df2['periodo'] = df2['periodo'].str.replace(\"outubro\",\"10\")\n",
    "df2['periodo'] = df2['periodo'].str.replace(\"novembro\",\"11\")\n",
    "df2['periodo'] = df2['periodo'].str.replace(\"dezembro\", \"12\")\n",
    "df2['periodo'] = df2['periodo'].str.replace(\"janeiro\",'01')\n",
    "df2['periodo'] = df2['periodo'].str.replace(\"fevereiro\",\"02\")\n",
    "df2['periodo'] = df2['periodo'].str.replace(\"março\",\"03\")\n",
    "df2['periodo'] = df2['periodo'].str.replace(\"abril\",\"04\")\n",
    "df2['periodo'] = df2['periodo'].str.replace(\"maio\",\"05\")\n",
    "df2['periodo'] = df2['periodo'].str.replace(\"junho\",\"06\")"
   ]
  },
  {
   "cell_type": "code",
   "execution_count": 83,
   "metadata": {},
   "outputs": [
    {
     "data": {
      "text/plain": [
       "0    07 1994\n",
       "1    08 1994\n",
       "2    09 1994\n",
       "3    10 1994\n",
       "4    11 1994\n",
       "Name: periodo, dtype: object"
      ]
     },
     "execution_count": 83,
     "metadata": {},
     "output_type": "execute_result"
    }
   ],
   "source": [
    "df2['periodo'].str.strip( ).head()"
   ]
  },
  {
   "cell_type": "code",
   "execution_count": 84,
   "metadata": {},
   "outputs": [],
   "source": [
    "df2['periodo'] = pd.to_datetime(df2['periodo'])"
   ]
  },
  {
   "cell_type": "code",
   "execution_count": 85,
   "metadata": {},
   "outputs": [],
   "source": [
    "df2['periodo'] = df2['periodo'].astype(str)"
   ]
  },
  {
   "cell_type": "code",
   "execution_count": 86,
   "metadata": {},
   "outputs": [
    {
     "data": {
      "text/plain": [
       "periodo      object\n",
       "inflacao    float64\n",
       "dtype: object"
      ]
     },
     "execution_count": 86,
     "metadata": {},
     "output_type": "execute_result"
    }
   ],
   "source": [
    "df2.dtypes"
   ]
  },
  {
   "cell_type": "code",
   "execution_count": 87,
   "metadata": {},
   "outputs": [
    {
     "data": {
      "text/plain": [
       "periodo      object\n",
       "inflacao    float64\n",
       "dtype: object"
      ]
     },
     "execution_count": 87,
     "metadata": {},
     "output_type": "execute_result"
    }
   ],
   "source": [
    "df2.dtypes"
   ]
  },
  {
   "cell_type": "code",
   "execution_count": 88,
   "metadata": {},
   "outputs": [],
   "source": [
    "from datetime import date\n",
    "from datetime import time\n",
    "from datetime import datetime"
   ]
  },
  {
   "cell_type": "code",
   "execution_count": 89,
   "metadata": {},
   "outputs": [],
   "source": [
    "date_str1 = df2['periodo']\n",
    "\n",
    "for x in df2['periodo']:\n",
    "    datetime.strptime(x,'%Y-%m-%d')"
   ]
  },
  {
   "cell_type": "code",
   "execution_count": 90,
   "metadata": {},
   "outputs": [
    {
     "data": {
      "text/plain": [
       "0    1994-07-01\n",
       "1    1994-08-01\n",
       "2    1994-09-01\n",
       "3    1994-10-01\n",
       "4    1994-11-01\n",
       "Name: periodo, dtype: object"
      ]
     },
     "execution_count": 90,
     "metadata": {},
     "output_type": "execute_result"
    }
   ],
   "source": [
    "df2['periodo'].head()\n"
   ]
  },
  {
   "cell_type": "code",
   "execution_count": 91,
   "metadata": {},
   "outputs": [
    {
     "data": {
      "text/html": [
       "<div>\n",
       "<style scoped>\n",
       "    .dataframe tbody tr th:only-of-type {\n",
       "        vertical-align: middle;\n",
       "    }\n",
       "\n",
       "    .dataframe tbody tr th {\n",
       "        vertical-align: top;\n",
       "    }\n",
       "\n",
       "    .dataframe thead th {\n",
       "        text-align: right;\n",
       "    }\n",
       "</style>\n",
       "<table border=\"1\" class=\"dataframe\">\n",
       "  <thead>\n",
       "    <tr style=\"text-align: right;\">\n",
       "      <th></th>\n",
       "      <th>periodo</th>\n",
       "      <th>inflacao</th>\n",
       "    </tr>\n",
       "  </thead>\n",
       "  <tbody>\n",
       "    <tr>\n",
       "      <th>0</th>\n",
       "      <td>1994-07-01</td>\n",
       "      <td>6.84</td>\n",
       "    </tr>\n",
       "    <tr>\n",
       "      <th>1</th>\n",
       "      <td>1994-08-01</td>\n",
       "      <td>1.86</td>\n",
       "    </tr>\n",
       "    <tr>\n",
       "      <th>2</th>\n",
       "      <td>1994-09-01</td>\n",
       "      <td>1.53</td>\n",
       "    </tr>\n",
       "    <tr>\n",
       "      <th>3</th>\n",
       "      <td>1994-10-01</td>\n",
       "      <td>2.62</td>\n",
       "    </tr>\n",
       "    <tr>\n",
       "      <th>4</th>\n",
       "      <td>1994-11-01</td>\n",
       "      <td>2.81</td>\n",
       "    </tr>\n",
       "  </tbody>\n",
       "</table>\n",
       "</div>"
      ],
      "text/plain": [
       "      periodo  inflacao\n",
       "0  1994-07-01      6.84\n",
       "1  1994-08-01      1.86\n",
       "2  1994-09-01      1.53\n",
       "3  1994-10-01      2.62\n",
       "4  1994-11-01      2.81"
      ]
     },
     "execution_count": 91,
     "metadata": {},
     "output_type": "execute_result"
    }
   ],
   "source": [
    "df2.head()"
   ]
  },
  {
   "cell_type": "code",
   "execution_count": 92,
   "metadata": {},
   "outputs": [
    {
     "data": {
      "text/html": [
       "<div>\n",
       "<style scoped>\n",
       "    .dataframe tbody tr th:only-of-type {\n",
       "        vertical-align: middle;\n",
       "    }\n",
       "\n",
       "    .dataframe tbody tr th {\n",
       "        vertical-align: top;\n",
       "    }\n",
       "\n",
       "    .dataframe thead th {\n",
       "        text-align: right;\n",
       "    }\n",
       "</style>\n",
       "<table border=\"1\" class=\"dataframe\">\n",
       "  <thead>\n",
       "    <tr style=\"text-align: right;\">\n",
       "      <th></th>\n",
       "      <th>Data</th>\n",
       "      <th>inflacao</th>\n",
       "    </tr>\n",
       "  </thead>\n",
       "  <tbody>\n",
       "    <tr>\n",
       "      <th>0</th>\n",
       "      <td>1994-07-01</td>\n",
       "      <td>6.84</td>\n",
       "    </tr>\n",
       "    <tr>\n",
       "      <th>1</th>\n",
       "      <td>1994-08-01</td>\n",
       "      <td>1.86</td>\n",
       "    </tr>\n",
       "    <tr>\n",
       "      <th>2</th>\n",
       "      <td>1994-09-01</td>\n",
       "      <td>1.53</td>\n",
       "    </tr>\n",
       "    <tr>\n",
       "      <th>3</th>\n",
       "      <td>1994-10-01</td>\n",
       "      <td>2.62</td>\n",
       "    </tr>\n",
       "    <tr>\n",
       "      <th>4</th>\n",
       "      <td>1994-11-01</td>\n",
       "      <td>2.81</td>\n",
       "    </tr>\n",
       "  </tbody>\n",
       "</table>\n",
       "</div>"
      ],
      "text/plain": [
       "         Data  inflacao\n",
       "0  1994-07-01      6.84\n",
       "1  1994-08-01      1.86\n",
       "2  1994-09-01      1.53\n",
       "3  1994-10-01      2.62\n",
       "4  1994-11-01      2.81"
      ]
     },
     "execution_count": 92,
     "metadata": {},
     "output_type": "execute_result"
    }
   ],
   "source": [
    "df2.rename(columns = {'periodo':'Data'}).head()"
   ]
  },
  {
   "cell_type": "code",
   "execution_count": 93,
   "metadata": {},
   "outputs": [
    {
     "data": {
      "text/html": [
       "<div>\n",
       "<style scoped>\n",
       "    .dataframe tbody tr th:only-of-type {\n",
       "        vertical-align: middle;\n",
       "    }\n",
       "\n",
       "    .dataframe tbody tr th {\n",
       "        vertical-align: top;\n",
       "    }\n",
       "\n",
       "    .dataframe thead th {\n",
       "        text-align: right;\n",
       "    }\n",
       "</style>\n",
       "<table border=\"1\" class=\"dataframe\">\n",
       "  <thead>\n",
       "    <tr style=\"text-align: right;\">\n",
       "      <th></th>\n",
       "      <th>Data</th>\n",
       "      <th>cotacao</th>\n",
       "    </tr>\n",
       "  </thead>\n",
       "  <tbody>\n",
       "    <tr>\n",
       "      <th>498</th>\n",
       "      <td>1994-07</td>\n",
       "      <td>0.93</td>\n",
       "    </tr>\n",
       "    <tr>\n",
       "      <th>499</th>\n",
       "      <td>1994-08</td>\n",
       "      <td>0.90</td>\n",
       "    </tr>\n",
       "    <tr>\n",
       "      <th>500</th>\n",
       "      <td>1994-09</td>\n",
       "      <td>0.87</td>\n",
       "    </tr>\n",
       "    <tr>\n",
       "      <th>501</th>\n",
       "      <td>1994-1</td>\n",
       "      <td>0.85</td>\n",
       "    </tr>\n",
       "    <tr>\n",
       "      <th>502</th>\n",
       "      <td>1994-11</td>\n",
       "      <td>0.84</td>\n",
       "    </tr>\n",
       "  </tbody>\n",
       "</table>\n",
       "</div>"
      ],
      "text/plain": [
       "        Data  cotacao\n",
       "498  1994-07     0.93\n",
       "499  1994-08     0.90\n",
       "500  1994-09     0.87\n",
       "501   1994-1     0.85\n",
       "502  1994-11     0.84"
      ]
     },
     "execution_count": 93,
     "metadata": {},
     "output_type": "execute_result"
    }
   ],
   "source": [
    "df_cambio.head()"
   ]
  },
  {
   "cell_type": "code",
   "execution_count": 94,
   "metadata": {},
   "outputs": [],
   "source": [
    "df_cambio['Data'] = df_cambio['Data'].astype(str)"
   ]
  },
  {
   "cell_type": "code",
   "execution_count": 95,
   "metadata": {},
   "outputs": [
    {
     "data": {
      "text/plain": [
       "498    1994 07\n",
       "499    1994 08\n",
       "500    1994 09\n",
       "501     1994 1\n",
       "502    1994 11\n",
       "        ...   \n",
       "801     2019 1\n",
       "802    2019 11\n",
       "803    2019 12\n",
       "804    2020 01\n",
       "805    2020 02\n",
       "Name: Data, Length: 308, dtype: object"
      ]
     },
     "execution_count": 95,
     "metadata": {},
     "output_type": "execute_result"
    }
   ],
   "source": [
    "df_cambio['Data'].str.replace(\"-\",\" \")\n"
   ]
  },
  {
   "cell_type": "code",
   "execution_count": 96,
   "metadata": {},
   "outputs": [
    {
     "data": {
      "text/html": [
       "<div>\n",
       "<style scoped>\n",
       "    .dataframe tbody tr th:only-of-type {\n",
       "        vertical-align: middle;\n",
       "    }\n",
       "\n",
       "    .dataframe tbody tr th {\n",
       "        vertical-align: top;\n",
       "    }\n",
       "\n",
       "    .dataframe thead th {\n",
       "        text-align: right;\n",
       "    }\n",
       "</style>\n",
       "<table border=\"1\" class=\"dataframe\">\n",
       "  <thead>\n",
       "    <tr style=\"text-align: right;\">\n",
       "      <th></th>\n",
       "      <th>index</th>\n",
       "      <th>Data</th>\n",
       "      <th>cotacao</th>\n",
       "    </tr>\n",
       "  </thead>\n",
       "  <tbody>\n",
       "    <tr>\n",
       "      <th>0</th>\n",
       "      <td>498</td>\n",
       "      <td>1994-07</td>\n",
       "      <td>0.93</td>\n",
       "    </tr>\n",
       "    <tr>\n",
       "      <th>1</th>\n",
       "      <td>499</td>\n",
       "      <td>1994-08</td>\n",
       "      <td>0.90</td>\n",
       "    </tr>\n",
       "    <tr>\n",
       "      <th>2</th>\n",
       "      <td>500</td>\n",
       "      <td>1994-09</td>\n",
       "      <td>0.87</td>\n",
       "    </tr>\n",
       "    <tr>\n",
       "      <th>3</th>\n",
       "      <td>501</td>\n",
       "      <td>1994-1</td>\n",
       "      <td>0.85</td>\n",
       "    </tr>\n",
       "    <tr>\n",
       "      <th>4</th>\n",
       "      <td>502</td>\n",
       "      <td>1994-11</td>\n",
       "      <td>0.84</td>\n",
       "    </tr>\n",
       "  </tbody>\n",
       "</table>\n",
       "</div>"
      ],
      "text/plain": [
       "   index     Data  cotacao\n",
       "0    498  1994-07     0.93\n",
       "1    499  1994-08     0.90\n",
       "2    500  1994-09     0.87\n",
       "3    501   1994-1     0.85\n",
       "4    502  1994-11     0.84"
      ]
     },
     "execution_count": 96,
     "metadata": {},
     "output_type": "execute_result"
    }
   ],
   "source": [
    "df_cambio.reset_index().head()"
   ]
  },
  {
   "cell_type": "code",
   "execution_count": 97,
   "metadata": {},
   "outputs": [
    {
     "name": "stdout",
     "output_type": "stream",
     "text": [
      "<class 'pandas.core.frame.DataFrame'>\n",
      "Int64Index: 308 entries, 498 to 805\n",
      "Data columns (total 2 columns):\n",
      " #   Column   Non-Null Count  Dtype  \n",
      "---  ------   --------------  -----  \n",
      " 0   Data     308 non-null    object \n",
      " 1   cotacao  308 non-null    float64\n",
      "dtypes: float64(1), object(1)\n",
      "memory usage: 7.2+ KB\n"
     ]
    }
   ],
   "source": [
    "df_cambio.info()"
   ]
  },
  {
   "cell_type": "code",
   "execution_count": 98,
   "metadata": {},
   "outputs": [],
   "source": [
    "df_cambio['Data'] = df_cambio['Data'].str.replace(\"-\",\" \")"
   ]
  },
  {
   "cell_type": "code",
   "execution_count": 99,
   "metadata": {},
   "outputs": [
    {
     "data": {
      "text/plain": [
       "498    1994 07\n",
       "499    1994 08\n",
       "500    1994 09\n",
       "501     1994 1\n",
       "502    1994 11\n",
       "        ...   \n",
       "801     2019 1\n",
       "802    2019 11\n",
       "803    2019 12\n",
       "804    2020 01\n",
       "805    2020 02\n",
       "Name: Data, Length: 308, dtype: object"
      ]
     },
     "execution_count": 99,
     "metadata": {},
     "output_type": "execute_result"
    }
   ],
   "source": [
    "df_cambio['Data']"
   ]
  },
  {
   "cell_type": "code",
   "execution_count": 100,
   "metadata": {},
   "outputs": [],
   "source": [
    "df_cambio['Data'] = df_cambio['Data'].str.replace(\" 011\",\" 11\")"
   ]
  },
  {
   "cell_type": "code",
   "execution_count": 101,
   "metadata": {},
   "outputs": [],
   "source": [
    "df_cambio['Data'] = df_cambio['Data'].str.replace(\" 012\", \" 12\")"
   ]
  },
  {
   "cell_type": "code",
   "execution_count": 102,
   "metadata": {},
   "outputs": [
    {
     "data": {
      "text/plain": [
       "800    2019 09\n",
       "801     2019 1\n",
       "802    2019 11\n",
       "803    2019 12\n",
       "804    2020 01\n",
       "805    2020 02\n",
       "Name: Data, dtype: object"
      ]
     },
     "execution_count": 102,
     "metadata": {},
     "output_type": "execute_result"
    }
   ],
   "source": [
    "df_cambio['Data'].loc[800:850]"
   ]
  },
  {
   "cell_type": "code",
   "execution_count": 103,
   "metadata": {},
   "outputs": [
    {
     "name": "stderr",
     "output_type": "stream",
     "text": [
      "C:\\Users\\Drin\\Anaconda2021\\lib\\site-packages\\pandas\\core\\indexing.py:670: SettingWithCopyWarning: \n",
      "A value is trying to be set on a copy of a slice from a DataFrame\n",
      "\n",
      "See the caveats in the documentation: https://pandas.pydata.org/pandas-docs/stable/user_guide/indexing.html#returning-a-view-versus-a-copy\n",
      "  iloc._setitem_with_indexer(indexer, value)\n"
     ]
    }
   ],
   "source": [
    "df_cambio['Data'].loc[501] = '1994 10'"
   ]
  },
  {
   "cell_type": "code",
   "execution_count": 104,
   "metadata": {},
   "outputs": [
    {
     "data": {
      "text/plain": [
       "'1994 10'"
      ]
     },
     "execution_count": 104,
     "metadata": {},
     "output_type": "execute_result"
    }
   ],
   "source": [
    "df_cambio['Data'].loc[501]"
   ]
  },
  {
   "cell_type": "code",
   "execution_count": 105,
   "metadata": {},
   "outputs": [
    {
     "data": {
      "text/plain": [
       "'1994 11'"
      ]
     },
     "execution_count": 105,
     "metadata": {},
     "output_type": "execute_result"
    }
   ],
   "source": [
    "df_cambio['Data'].loc[502]"
   ]
  },
  {
   "cell_type": "code",
   "execution_count": 106,
   "metadata": {},
   "outputs": [],
   "source": [
    "df_cambio['Data'].loc[801] = '2019 10'"
   ]
  },
  {
   "cell_type": "code",
   "execution_count": 107,
   "metadata": {},
   "outputs": [
    {
     "data": {
      "text/plain": [
       "498    1994 07\n",
       "499    1994 08\n",
       "500    1994 09\n",
       "Name: Data, dtype: object"
      ]
     },
     "execution_count": 107,
     "metadata": {},
     "output_type": "execute_result"
    }
   ],
   "source": [
    "df_cambio['Data'].head(3)"
   ]
  },
  {
   "cell_type": "code",
   "execution_count": 108,
   "metadata": {},
   "outputs": [],
   "source": [
    "df_cambio['Data']= df_cambio['Data'].astype(str)"
   ]
  },
  {
   "cell_type": "code",
   "execution_count": 109,
   "metadata": {},
   "outputs": [
    {
     "data": {
      "text/plain": [
       "Data        object\n",
       "cotacao    float64\n",
       "dtype: object"
      ]
     },
     "execution_count": 109,
     "metadata": {},
     "output_type": "execute_result"
    }
   ],
   "source": [
    "df_cambio.dtypes"
   ]
  },
  {
   "cell_type": "code",
   "execution_count": 110,
   "metadata": {},
   "outputs": [],
   "source": [
    "df_cambio['Data'] = df_cambio['Data'].str.replace(\" \",\"-\")"
   ]
  },
  {
   "cell_type": "code",
   "execution_count": 111,
   "metadata": {},
   "outputs": [
    {
     "data": {
      "text/plain": [
       "498    1994-07\n",
       "499    1994-08\n",
       "500    1994-09\n",
       "501    1994-10\n",
       "502    1994-11\n",
       "Name: Data, dtype: object"
      ]
     },
     "execution_count": 111,
     "metadata": {},
     "output_type": "execute_result"
    }
   ],
   "source": [
    "df_cambio['Data'].head()"
   ]
  },
  {
   "cell_type": "code",
   "execution_count": 112,
   "metadata": {},
   "outputs": [
    {
     "data": {
      "text/plain": [
       "498    1994-07\n",
       "499    1994-08\n",
       "500    1994-09\n",
       "501    1994-10\n",
       "502    1994-11\n",
       "        ...   \n",
       "801    2019-10\n",
       "802    2019-11\n",
       "803    2019-12\n",
       "804    2020-01\n",
       "805    2020-02\n",
       "Name: Data, Length: 308, dtype: object"
      ]
     },
     "execution_count": 112,
     "metadata": {},
     "output_type": "execute_result"
    }
   ],
   "source": [
    "df_cambio['Data']"
   ]
  },
  {
   "cell_type": "code",
   "execution_count": 113,
   "metadata": {},
   "outputs": [
    {
     "data": {
      "text/plain": [
       "periodo      object\n",
       "inflacao    float64\n",
       "dtype: object"
      ]
     },
     "execution_count": 113,
     "metadata": {},
     "output_type": "execute_result"
    }
   ],
   "source": [
    "df2.dtypes"
   ]
  },
  {
   "cell_type": "code",
   "execution_count": 114,
   "metadata": {},
   "outputs": [
    {
     "data": {
      "text/plain": [
       "Data        object\n",
       "cotacao    float64\n",
       "dtype: object"
      ]
     },
     "execution_count": 114,
     "metadata": {},
     "output_type": "execute_result"
    }
   ],
   "source": [
    "df_cambio.dtypes"
   ]
  },
  {
   "cell_type": "code",
   "execution_count": 115,
   "metadata": {},
   "outputs": [],
   "source": [
    "df2 = df2.rename(columns = {'periodo':'Data'})"
   ]
  },
  {
   "cell_type": "code",
   "execution_count": 116,
   "metadata": {},
   "outputs": [
    {
     "data": {
      "text/html": [
       "<div>\n",
       "<style scoped>\n",
       "    .dataframe tbody tr th:only-of-type {\n",
       "        vertical-align: middle;\n",
       "    }\n",
       "\n",
       "    .dataframe tbody tr th {\n",
       "        vertical-align: top;\n",
       "    }\n",
       "\n",
       "    .dataframe thead th {\n",
       "        text-align: right;\n",
       "    }\n",
       "</style>\n",
       "<table border=\"1\" class=\"dataframe\">\n",
       "  <thead>\n",
       "    <tr style=\"text-align: right;\">\n",
       "      <th></th>\n",
       "      <th>Data</th>\n",
       "      <th>inflacao</th>\n",
       "    </tr>\n",
       "  </thead>\n",
       "  <tbody>\n",
       "    <tr>\n",
       "      <th>0</th>\n",
       "      <td>1994-07-01</td>\n",
       "      <td>6.84</td>\n",
       "    </tr>\n",
       "    <tr>\n",
       "      <th>1</th>\n",
       "      <td>1994-08-01</td>\n",
       "      <td>1.86</td>\n",
       "    </tr>\n",
       "    <tr>\n",
       "      <th>2</th>\n",
       "      <td>1994-09-01</td>\n",
       "      <td>1.53</td>\n",
       "    </tr>\n",
       "    <tr>\n",
       "      <th>3</th>\n",
       "      <td>1994-10-01</td>\n",
       "      <td>2.62</td>\n",
       "    </tr>\n",
       "    <tr>\n",
       "      <th>4</th>\n",
       "      <td>1994-11-01</td>\n",
       "      <td>2.81</td>\n",
       "    </tr>\n",
       "  </tbody>\n",
       "</table>\n",
       "</div>"
      ],
      "text/plain": [
       "         Data  inflacao\n",
       "0  1994-07-01      6.84\n",
       "1  1994-08-01      1.86\n",
       "2  1994-09-01      1.53\n",
       "3  1994-10-01      2.62\n",
       "4  1994-11-01      2.81"
      ]
     },
     "execution_count": 116,
     "metadata": {},
     "output_type": "execute_result"
    }
   ],
   "source": [
    "df2.head()"
   ]
  },
  {
   "cell_type": "code",
   "execution_count": 117,
   "metadata": {},
   "outputs": [],
   "source": [
    "merged = pd.merge(df2, df_cambio, on='Data')"
   ]
  },
  {
   "cell_type": "code",
   "execution_count": 118,
   "metadata": {},
   "outputs": [
    {
     "data": {
      "text/html": [
       "<div>\n",
       "<style scoped>\n",
       "    .dataframe tbody tr th:only-of-type {\n",
       "        vertical-align: middle;\n",
       "    }\n",
       "\n",
       "    .dataframe tbody tr th {\n",
       "        vertical-align: top;\n",
       "    }\n",
       "\n",
       "    .dataframe thead th {\n",
       "        text-align: right;\n",
       "    }\n",
       "</style>\n",
       "<table border=\"1\" class=\"dataframe\">\n",
       "  <thead>\n",
       "    <tr style=\"text-align: right;\">\n",
       "      <th></th>\n",
       "      <th>Data</th>\n",
       "      <th>inflacao</th>\n",
       "      <th>cotacao</th>\n",
       "    </tr>\n",
       "  </thead>\n",
       "  <tbody>\n",
       "  </tbody>\n",
       "</table>\n",
       "</div>"
      ],
      "text/plain": [
       "Empty DataFrame\n",
       "Columns: [Data, inflacao, cotacao]\n",
       "Index: []"
      ]
     },
     "execution_count": 118,
     "metadata": {},
     "output_type": "execute_result"
    }
   ],
   "source": [
    "merged"
   ]
  },
  {
   "cell_type": "code",
   "execution_count": 119,
   "metadata": {},
   "outputs": [
    {
     "name": "stdout",
     "output_type": "stream",
     "text": [
      "<class 'pandas.core.frame.DataFrame'>\n",
      "RangeIndex: 308 entries, 0 to 307\n",
      "Data columns (total 2 columns):\n",
      " #   Column    Non-Null Count  Dtype  \n",
      "---  ------    --------------  -----  \n",
      " 0   Data      308 non-null    object \n",
      " 1   inflacao  308 non-null    float64\n",
      "dtypes: float64(1), object(1)\n",
      "memory usage: 4.9+ KB\n"
     ]
    }
   ],
   "source": [
    "df2.info()"
   ]
  },
  {
   "cell_type": "code",
   "execution_count": 120,
   "metadata": {},
   "outputs": [],
   "source": [
    "df_cambio = df_cambio.reset_index()"
   ]
  },
  {
   "cell_type": "code",
   "execution_count": 121,
   "metadata": {},
   "outputs": [],
   "source": [
    "df_cambio = df_cambio.drop(['index'], axis= 1)"
   ]
  },
  {
   "cell_type": "code",
   "execution_count": 122,
   "metadata": {},
   "outputs": [
    {
     "data": {
      "text/html": [
       "<div>\n",
       "<style scoped>\n",
       "    .dataframe tbody tr th:only-of-type {\n",
       "        vertical-align: middle;\n",
       "    }\n",
       "\n",
       "    .dataframe tbody tr th {\n",
       "        vertical-align: top;\n",
       "    }\n",
       "\n",
       "    .dataframe thead th {\n",
       "        text-align: right;\n",
       "    }\n",
       "</style>\n",
       "<table border=\"1\" class=\"dataframe\">\n",
       "  <thead>\n",
       "    <tr style=\"text-align: right;\">\n",
       "      <th></th>\n",
       "      <th>Data</th>\n",
       "      <th>cotacao</th>\n",
       "    </tr>\n",
       "  </thead>\n",
       "  <tbody>\n",
       "    <tr>\n",
       "      <th>0</th>\n",
       "      <td>1994-07</td>\n",
       "      <td>0.93</td>\n",
       "    </tr>\n",
       "    <tr>\n",
       "      <th>1</th>\n",
       "      <td>1994-08</td>\n",
       "      <td>0.90</td>\n",
       "    </tr>\n",
       "    <tr>\n",
       "      <th>2</th>\n",
       "      <td>1994-09</td>\n",
       "      <td>0.87</td>\n",
       "    </tr>\n",
       "    <tr>\n",
       "      <th>3</th>\n",
       "      <td>1994-10</td>\n",
       "      <td>0.85</td>\n",
       "    </tr>\n",
       "    <tr>\n",
       "      <th>4</th>\n",
       "      <td>1994-11</td>\n",
       "      <td>0.84</td>\n",
       "    </tr>\n",
       "  </tbody>\n",
       "</table>\n",
       "</div>"
      ],
      "text/plain": [
       "      Data  cotacao\n",
       "0  1994-07     0.93\n",
       "1  1994-08     0.90\n",
       "2  1994-09     0.87\n",
       "3  1994-10     0.85\n",
       "4  1994-11     0.84"
      ]
     },
     "execution_count": 122,
     "metadata": {},
     "output_type": "execute_result"
    }
   ],
   "source": [
    "df_cambio.head()"
   ]
  },
  {
   "cell_type": "code",
   "execution_count": 123,
   "metadata": {},
   "outputs": [
    {
     "name": "stdout",
     "output_type": "stream",
     "text": [
      "<class 'pandas.core.frame.DataFrame'>\n",
      "RangeIndex: 308 entries, 0 to 307\n",
      "Data columns (total 2 columns):\n",
      " #   Column   Non-Null Count  Dtype  \n",
      "---  ------   --------------  -----  \n",
      " 0   Data     308 non-null    object \n",
      " 1   cotacao  308 non-null    float64\n",
      "dtypes: float64(1), object(1)\n",
      "memory usage: 4.9+ KB\n"
     ]
    }
   ],
   "source": [
    "df_cambio.info()"
   ]
  },
  {
   "cell_type": "code",
   "execution_count": 124,
   "metadata": {},
   "outputs": [
    {
     "name": "stdout",
     "output_type": "stream",
     "text": [
      "<class 'pandas.core.frame.DataFrame'>\n",
      "RangeIndex: 308 entries, 0 to 307\n",
      "Data columns (total 2 columns):\n",
      " #   Column    Non-Null Count  Dtype  \n",
      "---  ------    --------------  -----  \n",
      " 0   Data      308 non-null    object \n",
      " 1   inflacao  308 non-null    float64\n",
      "dtypes: float64(1), object(1)\n",
      "memory usage: 4.9+ KB\n"
     ]
    }
   ],
   "source": [
    "df2.info()"
   ]
  },
  {
   "cell_type": "code",
   "execution_count": 125,
   "metadata": {},
   "outputs": [],
   "source": [
    "df2['Data'] = df2['Data'].astype(str) "
   ]
  },
  {
   "cell_type": "code",
   "execution_count": 126,
   "metadata": {},
   "outputs": [],
   "source": [
    "df2['Data'] = pd.to_datetime(df2['Data'])"
   ]
  },
  {
   "cell_type": "code",
   "execution_count": 127,
   "metadata": {},
   "outputs": [
    {
     "data": {
      "text/plain": [
       "Data        datetime64[ns]\n",
       "inflacao           float64\n",
       "dtype: object"
      ]
     },
     "execution_count": 127,
     "metadata": {},
     "output_type": "execute_result"
    }
   ],
   "source": [
    "df2.dtypes"
   ]
  },
  {
   "cell_type": "code",
   "execution_count": 128,
   "metadata": {},
   "outputs": [],
   "source": [
    "df_cambio['Data'] = pd.to_datetime(df_cambio['Data'])"
   ]
  },
  {
   "cell_type": "code",
   "execution_count": 129,
   "metadata": {},
   "outputs": [
    {
     "name": "stdout",
     "output_type": "stream",
     "text": [
      "<class 'pandas.core.frame.DataFrame'>\n",
      "RangeIndex: 308 entries, 0 to 307\n",
      "Data columns (total 2 columns):\n",
      " #   Column   Non-Null Count  Dtype         \n",
      "---  ------   --------------  -----         \n",
      " 0   Data     308 non-null    datetime64[ns]\n",
      " 1   cotacao  308 non-null    float64       \n",
      "dtypes: datetime64[ns](1), float64(1)\n",
      "memory usage: 4.9 KB\n"
     ]
    }
   ],
   "source": [
    "df_cambio.info()"
   ]
  },
  {
   "cell_type": "code",
   "execution_count": 130,
   "metadata": {},
   "outputs": [],
   "source": [
    "df_cambio['Data'] = df_cambio['Data'].dt.strftime('%Y-%m-%d')\n"
   ]
  },
  {
   "cell_type": "code",
   "execution_count": 131,
   "metadata": {},
   "outputs": [
    {
     "data": {
      "text/html": [
       "<div>\n",
       "<style scoped>\n",
       "    .dataframe tbody tr th:only-of-type {\n",
       "        vertical-align: middle;\n",
       "    }\n",
       "\n",
       "    .dataframe tbody tr th {\n",
       "        vertical-align: top;\n",
       "    }\n",
       "\n",
       "    .dataframe thead th {\n",
       "        text-align: right;\n",
       "    }\n",
       "</style>\n",
       "<table border=\"1\" class=\"dataframe\">\n",
       "  <thead>\n",
       "    <tr style=\"text-align: right;\">\n",
       "      <th></th>\n",
       "      <th>Data</th>\n",
       "      <th>cotacao</th>\n",
       "    </tr>\n",
       "  </thead>\n",
       "  <tbody>\n",
       "    <tr>\n",
       "      <th>0</th>\n",
       "      <td>1994-07-01</td>\n",
       "      <td>0.93</td>\n",
       "    </tr>\n",
       "    <tr>\n",
       "      <th>1</th>\n",
       "      <td>1994-08-01</td>\n",
       "      <td>0.90</td>\n",
       "    </tr>\n",
       "    <tr>\n",
       "      <th>2</th>\n",
       "      <td>1994-09-01</td>\n",
       "      <td>0.87</td>\n",
       "    </tr>\n",
       "    <tr>\n",
       "      <th>3</th>\n",
       "      <td>1994-10-01</td>\n",
       "      <td>0.85</td>\n",
       "    </tr>\n",
       "    <tr>\n",
       "      <th>4</th>\n",
       "      <td>1994-11-01</td>\n",
       "      <td>0.84</td>\n",
       "    </tr>\n",
       "  </tbody>\n",
       "</table>\n",
       "</div>"
      ],
      "text/plain": [
       "         Data  cotacao\n",
       "0  1994-07-01     0.93\n",
       "1  1994-08-01     0.90\n",
       "2  1994-09-01     0.87\n",
       "3  1994-10-01     0.85\n",
       "4  1994-11-01     0.84"
      ]
     },
     "execution_count": 131,
     "metadata": {},
     "output_type": "execute_result"
    }
   ],
   "source": [
    "df_cambio.head()"
   ]
  },
  {
   "cell_type": "code",
   "execution_count": 132,
   "metadata": {},
   "outputs": [
    {
     "data": {
      "text/plain": [
       "Data        datetime64[ns]\n",
       "inflacao           float64\n",
       "dtype: object"
      ]
     },
     "execution_count": 132,
     "metadata": {},
     "output_type": "execute_result"
    }
   ],
   "source": [
    "df2.dtypes"
   ]
  },
  {
   "cell_type": "code",
   "execution_count": 133,
   "metadata": {},
   "outputs": [
    {
     "data": {
      "text/plain": [
       "Data        object\n",
       "cotacao    float64\n",
       "dtype: object"
      ]
     },
     "execution_count": 133,
     "metadata": {},
     "output_type": "execute_result"
    }
   ],
   "source": [
    "df_cambio.dtypes"
   ]
  },
  {
   "cell_type": "code",
   "execution_count": 134,
   "metadata": {},
   "outputs": [],
   "source": [
    "df_cambio['Data'] = pd.to_datetime(df_cambio['Data'])"
   ]
  },
  {
   "cell_type": "code",
   "execution_count": 135,
   "metadata": {},
   "outputs": [
    {
     "data": {
      "text/plain": [
       "Data       datetime64[ns]\n",
       "cotacao           float64\n",
       "dtype: object"
      ]
     },
     "execution_count": 135,
     "metadata": {},
     "output_type": "execute_result"
    }
   ],
   "source": [
    "df_cambio.dtypes"
   ]
  },
  {
   "cell_type": "code",
   "execution_count": 136,
   "metadata": {},
   "outputs": [],
   "source": [
    "df2 = pd.DataFrame(df2)"
   ]
  },
  {
   "cell_type": "code",
   "execution_count": 137,
   "metadata": {},
   "outputs": [],
   "source": [
    "df_cambio = pd.DataFrame(df_cambio)"
   ]
  },
  {
   "cell_type": "code",
   "execution_count": 138,
   "metadata": {},
   "outputs": [
    {
     "data": {
      "text/plain": [
       "Data       datetime64[ns]\n",
       "cotacao           float64\n",
       "dtype: object"
      ]
     },
     "execution_count": 138,
     "metadata": {},
     "output_type": "execute_result"
    }
   ],
   "source": [
    "df_cambio.dtypes"
   ]
  },
  {
   "cell_type": "code",
   "execution_count": 139,
   "metadata": {},
   "outputs": [],
   "source": [
    "result = df2.append(df_cambio, sort = False, ignore_index=True)"
   ]
  },
  {
   "cell_type": "code",
   "execution_count": 140,
   "metadata": {},
   "outputs": [
    {
     "data": {
      "text/html": [
       "<div>\n",
       "<style scoped>\n",
       "    .dataframe tbody tr th:only-of-type {\n",
       "        vertical-align: middle;\n",
       "    }\n",
       "\n",
       "    .dataframe tbody tr th {\n",
       "        vertical-align: top;\n",
       "    }\n",
       "\n",
       "    .dataframe thead th {\n",
       "        text-align: right;\n",
       "    }\n",
       "</style>\n",
       "<table border=\"1\" class=\"dataframe\">\n",
       "  <thead>\n",
       "    <tr style=\"text-align: right;\">\n",
       "      <th></th>\n",
       "      <th>Data</th>\n",
       "      <th>inflacao</th>\n",
       "      <th>cotacao</th>\n",
       "    </tr>\n",
       "  </thead>\n",
       "  <tbody>\n",
       "    <tr>\n",
       "      <th>0</th>\n",
       "      <td>1994-07-01</td>\n",
       "      <td>6.84</td>\n",
       "      <td>NaN</td>\n",
       "    </tr>\n",
       "    <tr>\n",
       "      <th>1</th>\n",
       "      <td>1994-08-01</td>\n",
       "      <td>1.86</td>\n",
       "      <td>NaN</td>\n",
       "    </tr>\n",
       "    <tr>\n",
       "      <th>2</th>\n",
       "      <td>1994-09-01</td>\n",
       "      <td>1.53</td>\n",
       "      <td>NaN</td>\n",
       "    </tr>\n",
       "    <tr>\n",
       "      <th>3</th>\n",
       "      <td>1994-10-01</td>\n",
       "      <td>2.62</td>\n",
       "      <td>NaN</td>\n",
       "    </tr>\n",
       "    <tr>\n",
       "      <th>4</th>\n",
       "      <td>1994-11-01</td>\n",
       "      <td>2.81</td>\n",
       "      <td>NaN</td>\n",
       "    </tr>\n",
       "  </tbody>\n",
       "</table>\n",
       "</div>"
      ],
      "text/plain": [
       "        Data  inflacao  cotacao\n",
       "0 1994-07-01      6.84      NaN\n",
       "1 1994-08-01      1.86      NaN\n",
       "2 1994-09-01      1.53      NaN\n",
       "3 1994-10-01      2.62      NaN\n",
       "4 1994-11-01      2.81      NaN"
      ]
     },
     "execution_count": 140,
     "metadata": {},
     "output_type": "execute_result"
    }
   ],
   "source": [
    "result.head()"
   ]
  },
  {
   "cell_type": "code",
   "execution_count": 141,
   "metadata": {},
   "outputs": [],
   "source": [
    "result2 = pd.merge(df2, df_cambio, on=['Data'], how= 'inner')"
   ]
  },
  {
   "cell_type": "code",
   "execution_count": 142,
   "metadata": {},
   "outputs": [
    {
     "data": {
      "text/html": [
       "<div>\n",
       "<style scoped>\n",
       "    .dataframe tbody tr th:only-of-type {\n",
       "        vertical-align: middle;\n",
       "    }\n",
       "\n",
       "    .dataframe tbody tr th {\n",
       "        vertical-align: top;\n",
       "    }\n",
       "\n",
       "    .dataframe thead th {\n",
       "        text-align: right;\n",
       "    }\n",
       "</style>\n",
       "<table border=\"1\" class=\"dataframe\">\n",
       "  <thead>\n",
       "    <tr style=\"text-align: right;\">\n",
       "      <th></th>\n",
       "      <th>Data</th>\n",
       "      <th>inflacao</th>\n",
       "      <th>cotacao</th>\n",
       "    </tr>\n",
       "  </thead>\n",
       "  <tbody>\n",
       "    <tr>\n",
       "      <th>0</th>\n",
       "      <td>1994-07-01</td>\n",
       "      <td>6.84</td>\n",
       "      <td>0.93</td>\n",
       "    </tr>\n",
       "    <tr>\n",
       "      <th>1</th>\n",
       "      <td>1994-08-01</td>\n",
       "      <td>1.86</td>\n",
       "      <td>0.90</td>\n",
       "    </tr>\n",
       "    <tr>\n",
       "      <th>2</th>\n",
       "      <td>1994-09-01</td>\n",
       "      <td>1.53</td>\n",
       "      <td>0.87</td>\n",
       "    </tr>\n",
       "    <tr>\n",
       "      <th>3</th>\n",
       "      <td>1994-10-01</td>\n",
       "      <td>2.62</td>\n",
       "      <td>0.85</td>\n",
       "    </tr>\n",
       "    <tr>\n",
       "      <th>4</th>\n",
       "      <td>1994-11-01</td>\n",
       "      <td>2.81</td>\n",
       "      <td>0.84</td>\n",
       "    </tr>\n",
       "    <tr>\n",
       "      <th>...</th>\n",
       "      <td>...</td>\n",
       "      <td>...</td>\n",
       "      <td>...</td>\n",
       "    </tr>\n",
       "    <tr>\n",
       "      <th>303</th>\n",
       "      <td>2019-10-01</td>\n",
       "      <td>0.10</td>\n",
       "      <td>4.09</td>\n",
       "    </tr>\n",
       "    <tr>\n",
       "      <th>304</th>\n",
       "      <td>2019-11-01</td>\n",
       "      <td>0.51</td>\n",
       "      <td>4.16</td>\n",
       "    </tr>\n",
       "    <tr>\n",
       "      <th>305</th>\n",
       "      <td>2019-12-01</td>\n",
       "      <td>1.15</td>\n",
       "      <td>4.11</td>\n",
       "    </tr>\n",
       "    <tr>\n",
       "      <th>306</th>\n",
       "      <td>2020-01-01</td>\n",
       "      <td>0.21</td>\n",
       "      <td>4.15</td>\n",
       "    </tr>\n",
       "    <tr>\n",
       "      <th>307</th>\n",
       "      <td>2020-02-01</td>\n",
       "      <td>0.25</td>\n",
       "      <td>4.35</td>\n",
       "    </tr>\n",
       "  </tbody>\n",
       "</table>\n",
       "<p>308 rows × 3 columns</p>\n",
       "</div>"
      ],
      "text/plain": [
       "          Data  inflacao  cotacao\n",
       "0   1994-07-01      6.84     0.93\n",
       "1   1994-08-01      1.86     0.90\n",
       "2   1994-09-01      1.53     0.87\n",
       "3   1994-10-01      2.62     0.85\n",
       "4   1994-11-01      2.81     0.84\n",
       "..         ...       ...      ...\n",
       "303 2019-10-01      0.10     4.09\n",
       "304 2019-11-01      0.51     4.16\n",
       "305 2019-12-01      1.15     4.11\n",
       "306 2020-01-01      0.21     4.15\n",
       "307 2020-02-01      0.25     4.35\n",
       "\n",
       "[308 rows x 3 columns]"
      ]
     },
     "execution_count": 142,
     "metadata": {},
     "output_type": "execute_result"
    }
   ],
   "source": [
    "result2"
   ]
  },
  {
   "cell_type": "code",
   "execution_count": 143,
   "metadata": {},
   "outputs": [],
   "source": [
    "result5 = df2.join(df_cambio, lsuffix='_rev', rsuffix='_mng', how='outer')"
   ]
  },
  {
   "cell_type": "code",
   "execution_count": 144,
   "metadata": {},
   "outputs": [
    {
     "data": {
      "text/html": [
       "<div>\n",
       "<style scoped>\n",
       "    .dataframe tbody tr th:only-of-type {\n",
       "        vertical-align: middle;\n",
       "    }\n",
       "\n",
       "    .dataframe tbody tr th {\n",
       "        vertical-align: top;\n",
       "    }\n",
       "\n",
       "    .dataframe thead th {\n",
       "        text-align: right;\n",
       "    }\n",
       "</style>\n",
       "<table border=\"1\" class=\"dataframe\">\n",
       "  <thead>\n",
       "    <tr style=\"text-align: right;\">\n",
       "      <th></th>\n",
       "      <th>Data_rev</th>\n",
       "      <th>inflacao</th>\n",
       "      <th>Data_mng</th>\n",
       "      <th>cotacao</th>\n",
       "    </tr>\n",
       "  </thead>\n",
       "  <tbody>\n",
       "    <tr>\n",
       "      <th>0</th>\n",
       "      <td>1994-07-01</td>\n",
       "      <td>6.84</td>\n",
       "      <td>1994-07-01</td>\n",
       "      <td>0.93</td>\n",
       "    </tr>\n",
       "    <tr>\n",
       "      <th>1</th>\n",
       "      <td>1994-08-01</td>\n",
       "      <td>1.86</td>\n",
       "      <td>1994-08-01</td>\n",
       "      <td>0.90</td>\n",
       "    </tr>\n",
       "    <tr>\n",
       "      <th>2</th>\n",
       "      <td>1994-09-01</td>\n",
       "      <td>1.53</td>\n",
       "      <td>1994-09-01</td>\n",
       "      <td>0.87</td>\n",
       "    </tr>\n",
       "    <tr>\n",
       "      <th>3</th>\n",
       "      <td>1994-10-01</td>\n",
       "      <td>2.62</td>\n",
       "      <td>1994-10-01</td>\n",
       "      <td>0.85</td>\n",
       "    </tr>\n",
       "    <tr>\n",
       "      <th>4</th>\n",
       "      <td>1994-11-01</td>\n",
       "      <td>2.81</td>\n",
       "      <td>1994-11-01</td>\n",
       "      <td>0.84</td>\n",
       "    </tr>\n",
       "  </tbody>\n",
       "</table>\n",
       "</div>"
      ],
      "text/plain": [
       "    Data_rev  inflacao   Data_mng  cotacao\n",
       "0 1994-07-01      6.84 1994-07-01     0.93\n",
       "1 1994-08-01      1.86 1994-08-01     0.90\n",
       "2 1994-09-01      1.53 1994-09-01     0.87\n",
       "3 1994-10-01      2.62 1994-10-01     0.85\n",
       "4 1994-11-01      2.81 1994-11-01     0.84"
      ]
     },
     "execution_count": 144,
     "metadata": {},
     "output_type": "execute_result"
    }
   ],
   "source": [
    "result5.head()"
   ]
  },
  {
   "cell_type": "code",
   "execution_count": 145,
   "metadata": {},
   "outputs": [],
   "source": [
    "result5 = result5.rename(columns={'cotacao':'cambio'})"
   ]
  },
  {
   "cell_type": "code",
   "execution_count": 146,
   "metadata": {},
   "outputs": [
    {
     "data": {
      "text/html": [
       "<div>\n",
       "<style scoped>\n",
       "    .dataframe tbody tr th:only-of-type {\n",
       "        vertical-align: middle;\n",
       "    }\n",
       "\n",
       "    .dataframe tbody tr th {\n",
       "        vertical-align: top;\n",
       "    }\n",
       "\n",
       "    .dataframe thead th {\n",
       "        text-align: right;\n",
       "    }\n",
       "</style>\n",
       "<table border=\"1\" class=\"dataframe\">\n",
       "  <thead>\n",
       "    <tr style=\"text-align: right;\">\n",
       "      <th></th>\n",
       "      <th>Data_rev</th>\n",
       "      <th>inflacao</th>\n",
       "      <th>Data_mng</th>\n",
       "      <th>cambio</th>\n",
       "    </tr>\n",
       "  </thead>\n",
       "  <tbody>\n",
       "    <tr>\n",
       "      <th>0</th>\n",
       "      <td>1994-07-01</td>\n",
       "      <td>6.84</td>\n",
       "      <td>1994-07-01</td>\n",
       "      <td>0.93</td>\n",
       "    </tr>\n",
       "    <tr>\n",
       "      <th>1</th>\n",
       "      <td>1994-08-01</td>\n",
       "      <td>1.86</td>\n",
       "      <td>1994-08-01</td>\n",
       "      <td>0.90</td>\n",
       "    </tr>\n",
       "    <tr>\n",
       "      <th>2</th>\n",
       "      <td>1994-09-01</td>\n",
       "      <td>1.53</td>\n",
       "      <td>1994-09-01</td>\n",
       "      <td>0.87</td>\n",
       "    </tr>\n",
       "    <tr>\n",
       "      <th>3</th>\n",
       "      <td>1994-10-01</td>\n",
       "      <td>2.62</td>\n",
       "      <td>1994-10-01</td>\n",
       "      <td>0.85</td>\n",
       "    </tr>\n",
       "    <tr>\n",
       "      <th>4</th>\n",
       "      <td>1994-11-01</td>\n",
       "      <td>2.81</td>\n",
       "      <td>1994-11-01</td>\n",
       "      <td>0.84</td>\n",
       "    </tr>\n",
       "  </tbody>\n",
       "</table>\n",
       "</div>"
      ],
      "text/plain": [
       "    Data_rev  inflacao   Data_mng  cambio\n",
       "0 1994-07-01      6.84 1994-07-01    0.93\n",
       "1 1994-08-01      1.86 1994-08-01    0.90\n",
       "2 1994-09-01      1.53 1994-09-01    0.87\n",
       "3 1994-10-01      2.62 1994-10-01    0.85\n",
       "4 1994-11-01      2.81 1994-11-01    0.84"
      ]
     },
     "execution_count": 146,
     "metadata": {},
     "output_type": "execute_result"
    }
   ],
   "source": [
    "result5.head()"
   ]
  },
  {
   "cell_type": "code",
   "execution_count": 147,
   "metadata": {},
   "outputs": [],
   "source": [
    "result5 = result5.rename(columns={'Data_mng':'Data'})"
   ]
  },
  {
   "cell_type": "code",
   "execution_count": 148,
   "metadata": {},
   "outputs": [
    {
     "data": {
      "text/html": [
       "<div>\n",
       "<style scoped>\n",
       "    .dataframe tbody tr th:only-of-type {\n",
       "        vertical-align: middle;\n",
       "    }\n",
       "\n",
       "    .dataframe tbody tr th {\n",
       "        vertical-align: top;\n",
       "    }\n",
       "\n",
       "    .dataframe thead th {\n",
       "        text-align: right;\n",
       "    }\n",
       "</style>\n",
       "<table border=\"1\" class=\"dataframe\">\n",
       "  <thead>\n",
       "    <tr style=\"text-align: right;\">\n",
       "      <th></th>\n",
       "      <th>Data_rev</th>\n",
       "      <th>inflacao</th>\n",
       "      <th>Data</th>\n",
       "      <th>cambio</th>\n",
       "    </tr>\n",
       "  </thead>\n",
       "  <tbody>\n",
       "    <tr>\n",
       "      <th>0</th>\n",
       "      <td>1994-07-01</td>\n",
       "      <td>6.84</td>\n",
       "      <td>1994-07-01</td>\n",
       "      <td>0.93</td>\n",
       "    </tr>\n",
       "    <tr>\n",
       "      <th>1</th>\n",
       "      <td>1994-08-01</td>\n",
       "      <td>1.86</td>\n",
       "      <td>1994-08-01</td>\n",
       "      <td>0.90</td>\n",
       "    </tr>\n",
       "    <tr>\n",
       "      <th>2</th>\n",
       "      <td>1994-09-01</td>\n",
       "      <td>1.53</td>\n",
       "      <td>1994-09-01</td>\n",
       "      <td>0.87</td>\n",
       "    </tr>\n",
       "    <tr>\n",
       "      <th>3</th>\n",
       "      <td>1994-10-01</td>\n",
       "      <td>2.62</td>\n",
       "      <td>1994-10-01</td>\n",
       "      <td>0.85</td>\n",
       "    </tr>\n",
       "    <tr>\n",
       "      <th>4</th>\n",
       "      <td>1994-11-01</td>\n",
       "      <td>2.81</td>\n",
       "      <td>1994-11-01</td>\n",
       "      <td>0.84</td>\n",
       "    </tr>\n",
       "  </tbody>\n",
       "</table>\n",
       "</div>"
      ],
      "text/plain": [
       "    Data_rev  inflacao       Data  cambio\n",
       "0 1994-07-01      6.84 1994-07-01    0.93\n",
       "1 1994-08-01      1.86 1994-08-01    0.90\n",
       "2 1994-09-01      1.53 1994-09-01    0.87\n",
       "3 1994-10-01      2.62 1994-10-01    0.85\n",
       "4 1994-11-01      2.81 1994-11-01    0.84"
      ]
     },
     "execution_count": 148,
     "metadata": {},
     "output_type": "execute_result"
    }
   ],
   "source": [
    "result5.head()"
   ]
  },
  {
   "cell_type": "code",
   "execution_count": 149,
   "metadata": {},
   "outputs": [],
   "source": [
    "result5 = result5.drop(['Data_rev'], axis=1)"
   ]
  },
  {
   "cell_type": "code",
   "execution_count": 150,
   "metadata": {},
   "outputs": [
    {
     "data": {
      "text/html": [
       "<div>\n",
       "<style scoped>\n",
       "    .dataframe tbody tr th:only-of-type {\n",
       "        vertical-align: middle;\n",
       "    }\n",
       "\n",
       "    .dataframe tbody tr th {\n",
       "        vertical-align: top;\n",
       "    }\n",
       "\n",
       "    .dataframe thead th {\n",
       "        text-align: right;\n",
       "    }\n",
       "</style>\n",
       "<table border=\"1\" class=\"dataframe\">\n",
       "  <thead>\n",
       "    <tr style=\"text-align: right;\">\n",
       "      <th></th>\n",
       "      <th>inflacao</th>\n",
       "      <th>Data</th>\n",
       "      <th>cambio</th>\n",
       "    </tr>\n",
       "  </thead>\n",
       "  <tbody>\n",
       "    <tr>\n",
       "      <th>0</th>\n",
       "      <td>6.84</td>\n",
       "      <td>1994-07-01</td>\n",
       "      <td>0.93</td>\n",
       "    </tr>\n",
       "    <tr>\n",
       "      <th>1</th>\n",
       "      <td>1.86</td>\n",
       "      <td>1994-08-01</td>\n",
       "      <td>0.90</td>\n",
       "    </tr>\n",
       "    <tr>\n",
       "      <th>2</th>\n",
       "      <td>1.53</td>\n",
       "      <td>1994-09-01</td>\n",
       "      <td>0.87</td>\n",
       "    </tr>\n",
       "    <tr>\n",
       "      <th>3</th>\n",
       "      <td>2.62</td>\n",
       "      <td>1994-10-01</td>\n",
       "      <td>0.85</td>\n",
       "    </tr>\n",
       "    <tr>\n",
       "      <th>4</th>\n",
       "      <td>2.81</td>\n",
       "      <td>1994-11-01</td>\n",
       "      <td>0.84</td>\n",
       "    </tr>\n",
       "  </tbody>\n",
       "</table>\n",
       "</div>"
      ],
      "text/plain": [
       "   inflacao       Data  cambio\n",
       "0      6.84 1994-07-01    0.93\n",
       "1      1.86 1994-08-01    0.90\n",
       "2      1.53 1994-09-01    0.87\n",
       "3      2.62 1994-10-01    0.85\n",
       "4      2.81 1994-11-01    0.84"
      ]
     },
     "execution_count": 150,
     "metadata": {},
     "output_type": "execute_result"
    }
   ],
   "source": [
    "result5.head()"
   ]
  },
  {
   "cell_type": "code",
   "execution_count": 151,
   "metadata": {},
   "outputs": [],
   "source": [
    "import numpy as np"
   ]
  },
  {
   "cell_type": "code",
   "execution_count": 152,
   "metadata": {},
   "outputs": [],
   "source": [
    "inflacao = result5['inflacao'].values"
   ]
  },
  {
   "cell_type": "code",
   "execution_count": 153,
   "metadata": {},
   "outputs": [],
   "source": [
    "list_inflacao = inflacao.tolist()"
   ]
  },
  {
   "cell_type": "code",
   "execution_count": 154,
   "metadata": {},
   "outputs": [],
   "source": [
    "cambio = result5['cambio'].values"
   ]
  },
  {
   "cell_type": "code",
   "execution_count": 155,
   "metadata": {},
   "outputs": [],
   "source": [
    "list_cambio = cambio.tolist()"
   ]
  },
  {
   "cell_type": "code",
   "execution_count": 157,
   "metadata": {},
   "outputs": [],
   "source": [
    "import matplotlib.pyplot as plt"
   ]
  },
  {
   "cell_type": "code",
   "execution_count": 158,
   "metadata": {},
   "outputs": [
    {
     "data": {
      "image/png": "[encoded data removed]",
      "text/plain": [
       "<Figure size 720x360 with 1 Axes>"
      ]
     },
     "metadata": {},
     "output_type": "display_data"
    }
   ],
   "source": [
    "plt.style.use(\"ggplot\")\n",
    "plt.figure(figsize=(10,5))\n",
    "plt.scatter( list_cambio, list_inflacao, s=60, alpha=0.7)\n",
    "plt.ylabel(\"Inflação\")\n",
    "plt.xlabel(\"Taxa de câmbio-Real/US Dolar\")\n",
    "plt.title(\"'Taxa de câmbio (Real/US Dolar)' vs 'IPCA' - período 1994/2020\")\n",
    "plt.gcf()\n",
    "plt.savefig(\"cambio_inflacao.jpg\", dpi = 100)\n",
    "plt.show()"
   ]
  },
  {
   "cell_type": "code",
   "execution_count": null,
   "metadata": {},
   "outputs": [],
   "source": []
  }
 ],
 "metadata": {
  "kernelspec": {
   "display_name": "Python 3",
   "language": "python",
   "name": "python3"
  },
  "language_info": {
   "codemirror_mode": {
    "name": "ipython",
    "version": 3
   },
   "file_extension": ".py",
   "mimetype": "text/x-python",
   "name": "python",
   "nbconvert_exporter": "python",
   "pygments_lexer": "ipython3",
   "version": "3.8.5"
  }
 },
 "nbformat": 4,
 "nbformat_minor": 2
}
